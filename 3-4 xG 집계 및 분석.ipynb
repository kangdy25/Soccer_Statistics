{
 "cells": [
  {
   "cell_type": "markdown",
   "metadata": {},
   "source": [
    "### 슈팅 데이터 불러오기"
   ]
  },
  {
   "cell_type": "code",
   "execution_count": null,
   "metadata": {},
   "outputs": [],
   "source": [
    "import numpy as np\n",
    "import pandas as pd\n",
    "import plotly.graph_objects as go\n",
    "from src.plot_utils import get_pitch_layout"
   ]
  },
  {
   "cell_type": "code",
   "execution_count": null,
   "metadata": {},
   "outputs": [],
   "source": [
    "shots = pd.read_pickle('data/shots.pkl')\n",
    "shots"
   ]
  },
  {
   "cell_type": "markdown",
   "metadata": {},
   "source": [
    "### 단일 경기 xG 시각화"
   ]
  },
  {
   "cell_type": "markdown",
   "metadata": {},
   "source": [
    "##### (1) 슈팅 레이블 생성"
   ]
  },
  {
   "cell_type": "code",
   "execution_count": null,
   "metadata": {},
   "outputs": [],
   "source": [
    "match_id = 2057987\n",
    "\n",
    "match_df = pd.read_csv('data/refined_events/World_Cup/matches.csv', index_col=0, header=0, encoding='utf-8-sig')\n",
    "team1_name = match_df.at[match_id, 'team1_name']\n",
    "team2_name = match_df.at[match_id, 'team2_name']\n",
    "\n",
    "match_shots = shots[shots['match_id'] == match_id]\n",
    "match_shots['display_name'] = match_shots.apply(\n",
    "    lambda x: f\"{x['player_name']}, \" +\n",
    "    f\"{x['period']} {int(x['time'] // 60):02d}:{int(x['time'] % 60):02d}, \" +\n",
    "    f\"xG: {round(x['xg'], 3)}\", axis=1\n",
    ")\n",
    "\n",
    "team2_x = match_shots.loc[match_shots['team_name'] == team2_name, 'x']\n",
    "team1_y = match_shots.loc[match_shots['team_name'] == team1_name, 'y']\n",
    "team2_y = match_shots.loc[match_shots['team_name'] == team2_name, 'y']\n",
    "match_shots.loc[match_shots['team_name'] == team2_name, 'x'] = 104 - team2_x\n",
    "match_shots.loc[match_shots['team_name'] == team1_name, 'y'] = 34 - team1_y\n",
    "match_shots.loc[match_shots['team_name'] == team2_name, 'y'] = 34 + team2_y\n",
    "\n",
    "match_shots.head()"
   ]
  },
  {
   "cell_type": "markdown",
   "metadata": {},
   "source": [
    "##### (2) 슈팅 위치 및 xG 시각화"
   ]
  },
  {
   "cell_type": "code",
   "execution_count": null,
   "metadata": {},
   "outputs": [],
   "source": [
    "match_shots_failed = match_shots[match_shots['tags'].apply(lambda x: 'Goal' not in x)]\n",
    "\n",
    "team1_shots = match_shots[match_shots['team_name'] == team1_name]\n",
    "team2_shots = match_shots[match_shots['team_name'] == team2_name]\n",
    "team1_goals = team1_shots[team1_shots['tags'].apply(lambda x: 'Goal' in x)]\n",
    "team2_goals = team2_shots[team2_shots['tags'].apply(lambda x: 'Goal' in x)]\n",
    "\n",
    "team1_goal_trace = go.Scatter(\n",
    "    x=team1_goals['x'],\n",
    "    y=team1_goals['y'],\n",
    "    name=team1_name,\n",
    "    text=team1_goals['display_name'],\n",
    "    mode='markers',\n",
    "    marker=dict(\n",
    "        color='red', size=np.sqrt(team1_goals['xg']) * 50, \n",
    "        symbol=team1_goals['freekick'].apply(lambda x: 'square' if x == 1 else 'circle')\n",
    "    )\n",
    ")\n",
    "\n",
    "team2_goal_trace = go.Scatter(\n",
    "    x=team2_goals['x'],\n",
    "    y=team2_goals['y'],\n",
    "    name=team2_name,\n",
    "    text=team2_goals['display_name'],\n",
    "    mode='markers',\n",
    "    marker=dict(\n",
    "        color='blue', size=np.sqrt(team2_goals['xg']) * 50, \n",
    "        symbol=team2_goals['freekick'].apply(lambda x: 'square' if x == 1 else 'circle')\n",
    "    )\n",
    ")\n",
    "\n",
    "shot_trace = go.Scatter(\n",
    "    x=match_shots_failed['x'],\n",
    "    y=match_shots_failed['y'],\n",
    "    name='Failed shot',\n",
    "    text=match_shots_failed['display_name'],\n",
    "    mode='markers',\n",
    "    marker=dict(\n",
    "        color='darkgrey', size=np.sqrt(match_shots_failed['xg']) * 50, \n",
    "        symbol=match_shots_failed['freekick'].apply(lambda x: 'square' if x == 1 else 'circle')\n",
    "    )\n",
    ")\n",
    "\n",
    "team1_xg = team1_shots['xg'].sum().round(2)\n",
    "team2_xg = team2_shots['xg'].sum().round(2)\n",
    "title = f\"{team1_name} - {team2_name} (xG: {team1_xg} - {team2_xg})\"\n",
    "fig = go.Figure(data=[shot_trace, team1_goal_trace, team2_goal_trace], layout=get_pitch_layout(title))\n",
    "fig.show()"
   ]
  },
  {
   "cell_type": "markdown",
   "metadata": {},
   "source": [
    "### 선수별 시즌 전체 xG 및 부가 지표 집계"
   ]
  },
  {
   "cell_type": "markdown",
   "metadata": {},
   "source": [
    "##### (1) 선수별 슈팅/유효슈팅/득점 횟수 집계"
   ]
  },
  {
   "cell_type": "code",
   "execution_count": null,
   "metadata": {},
   "outputs": [],
   "source": [
    "shots = shots[shots['competition_name'] == 'England']\n",
    "shots_on_target = shots[shots['tags'].apply(lambda x: 'Accurate' in x)]\n",
    "goals = shots[shots['tags'].apply(lambda x: 'Goal' in x)]\n",
    "\n",
    "player_shot_counts = shots.groupby(['team_id', 'team_name', 'player_id', 'player_name'])['event_id'].count()\n",
    "player_sot_counts = shots_on_target.groupby(['team_id', 'team_name', 'player_id', 'player_name'])['event_id'].count()\n",
    "player_goal_counts = goals.groupby(['team_id', 'team_name', 'player_id', 'player_name'])['event_id'].count()\n",
    "\n",
    "player_stats = pd.concat([player_shot_counts, player_sot_counts, player_goal_counts], axis=1).fillna(0).astype(int)\n",
    "player_stats.columns = ['Shots', 'SoT', 'Goals']\n",
    "player_stats"
   ]
  },
  {
   "cell_type": "code",
   "execution_count": null,
   "metadata": {},
   "outputs": [],
   "source": [
    "player_stats.sort_values('Goals', ascending=False)[:20].reset_index()"
   ]
  },
  {
   "cell_type": "markdown",
   "metadata": {},
   "source": [
    "##### (2) 선수별 xG 집계 및 정렬"
   ]
  },
  {
   "cell_type": "code",
   "execution_count": null,
   "metadata": {},
   "outputs": [],
   "source": [
    "player_stats['xG'] = shots.groupby(['team_id', 'team_name', 'player_id', 'player_name'])['xg'].sum()\n",
    "player_stats.sort_values('xG', ascending=False)[:20].reset_index()"
   ]
  },
  {
   "cell_type": "markdown",
   "metadata": {},
   "source": [
    "##### (3) 선수별 득점-xG 차이(dG) 집계 및 정렬"
   ]
  },
  {
   "cell_type": "code",
   "execution_count": null,
   "metadata": {},
   "outputs": [],
   "source": [
    "player_stats['dG'] = player_stats['Goals'] - player_stats['xG']\n",
    "player_stats.sort_values('dG', ascending=False)[:20].reset_index()"
   ]
  },
  {
   "cell_type": "markdown",
   "metadata": {},
   "source": [
    "##### (4) 선수별 득점당 평균 xG 집계 및 정렬"
   ]
  },
  {
   "cell_type": "code",
   "execution_count": null,
   "metadata": {},
   "outputs": [],
   "source": [
    "player_stats['xG for goals'] = goals.groupby(['team_id', 'team_name', 'player_id', 'player_name'])['xg'].sum()\n",
    "player_stats['xG per goal'] = player_stats['xG for goals'] / player_stats['Goals']\n",
    "player_stats[player_stats['Goals'] >= 5].sort_values('xG per goal')[:20].reset_index()"
   ]
  },
  {
   "cell_type": "markdown",
   "metadata": {},
   "source": [
    "### 선수별 시즌 전체 xG 시각화"
   ]
  },
  {
   "cell_type": "markdown",
   "metadata": {},
   "source": [
    "##### (1) 슈팅 레이블 생성"
   ]
  },
  {
   "cell_type": "code",
   "execution_count": null,
   "metadata": {},
   "outputs": [],
   "source": [
    "match_df = pd.read_csv('data/refined_events/England/matches.csv', header=0, encoding='utf-8-sig')\n",
    "shots = pd.merge(shots, match_df[['match_id', 'gameweek', 'team1_name', 'team2_name']])\n",
    "shots['display_name'] = shots.apply(\n",
    "    lambda x: f\"[{x['gameweek']}R] {x['team1_name']} vs {x['team2_name']}, \" +\n",
    "    f\"{x['period']} {int(x['time'] // 60):02d}:{int(x['time'] % 60):02d}, xG: {round(x['xg'], 3)}\", axis=1\n",
    ")\n",
    "shots"
   ]
  },
  {
   "cell_type": "markdown",
   "metadata": {},
   "source": [
    "##### (2) 슈팅 위치 및 xG 시각화"
   ]
  },
  {
   "cell_type": "code",
   "execution_count": null,
   "metadata": {},
   "outputs": [],
   "source": [
    "player_name = 'Son Heung-Min'\n",
    "# player_name = 'Mohamed Salah'\n",
    "# player_name = 'K. De Bruyne'\n",
    "\n",
    "player_shots = shots[shots['player_name'] == player_name]\n",
    "player_goals = player_shots[player_shots['tags'].apply(lambda x: 'Goal' in x)]\n",
    "player_shots_failed = player_shots[player_shots['tags'].apply(lambda x: 'Goal' not in x)]\n",
    "\n",
    "goal_trace = go.Scatter(\n",
    "    x=104 - player_goals['x'],\n",
    "    y=34 + player_goals['y'],\n",
    "    name='Goal',\n",
    "    text=player_goals['display_name'],\n",
    "    mode='markers',\n",
    "    marker=dict(\n",
    "        color='red', size=np.sqrt(player_goals['xg']) * 50, \n",
    "        symbol=player_goals['freekick'].apply(lambda x: 'square' if x == 1 else 'circle')\n",
    "    )\n",
    ")\n",
    "\n",
    "shot_trace = go.Scatter(\n",
    "    x=104 - player_shots_failed['x'],\n",
    "    y=34 + player_shots_failed['y'],\n",
    "    name='Failed shot',\n",
    "    text=player_shots_failed['display_name'],\n",
    "    mode='markers',\n",
    "    marker=dict(\n",
    "        color='darkgrey', size=np.sqrt(player_shots_failed['xg']) * 50, \n",
    "        symbol=player_shots_failed['freekick'].apply(lambda x: 'square' if x == 1 else 'circle')\n",
    "    )\n",
    ")\n",
    "\n",
    "title = f\"{player_name} - Goals: {player_shots['goal'].sum()}, xG: {round(player_shots['xg'].sum(), 3)} \"\n",
    "fig = go.Figure(data=[shot_trace, goal_trace], layout=get_pitch_layout(title))\n",
    "fig.show()"
   ]
  }
 ],
 "metadata": {
  "kernelspec": {
   "display_name": "Python 3.8.13 ('class101')",
   "language": "python",
   "name": "python3"
  },
  "language_info": {
   "codemirror_mode": {
    "name": "ipython",
    "version": 3
   },
   "file_extension": ".py",
   "mimetype": "text/x-python",
   "name": "python",
   "nbconvert_exporter": "python",
   "pygments_lexer": "ipython3",
   "version": "3.8.13"
  },
  "orig_nbformat": 4,
  "vscode": {
   "interpreter": {
    "hash": "b2229428593ed30f482d105244b52f2214d62638ed0cc5078189e23a80557466"
   }
  }
 },
 "nbformat": 4,
 "nbformat_minor": 2
}
