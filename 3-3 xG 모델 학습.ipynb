{
 "cells": [
  {
   "cell_type": "markdown",
   "metadata": {},
   "source": [
    "### 강의에서 소개된 파이썬 주요 기능\n",
    "- statsmodels.formula.api.glm: https://www.statsmodels.org/dev/generated/statsmodels.formula.api.glm.html\n",
    "- statsmodels.genmod.generalized_linear_model.GLM: https://www.statsmodels.org/dev/generated/statsmodels.genmod.generalized_linear_model.GLM.html\n",
    "- statsmodels.genmod.generalized_linear_model.GLM.fit: https://www.statsmodels.org/dev/generated/statsmodels.genmod.generalized_linear_model.GLM.fit.html\n",
    "- statsmodels.genmod.families.family.Binomial: https://www.statsmodels.org/dev/generated/statsmodels.genmod.families.family.Binomial.html\n",
    "- numpy.exp: https://numpy.org/doc/stable/reference/generated/numpy.exp.html\n",
    "- numpy.zeros: https://numpy.org/doc/stable/reference/generated/numpy.zeros.html"
   ]
  },
  {
   "cell_type": "markdown",
   "metadata": {},
   "source": [
    "### 슈팅 데이터 불러오기"
   ]
  },
  {
   "cell_type": "code",
   "execution_count": 1,
   "metadata": {},
   "outputs": [],
   "source": [
    "import numpy as np\n",
    "import pandas as pd\n",
    "import statsmodels.api as sm\n",
    "import statsmodels.formula.api as smf\n",
    "import matplotlib.pyplot as plt\n",
    "from src.plot_utils import draw_pitch"
   ]
  },
  {
   "cell_type": "code",
   "execution_count": 2,
   "metadata": {},
   "outputs": [
    {
     "data": {
      "text/html": [
       "<div>\n",
       "<style scoped>\n",
       "    .dataframe tbody tr th:only-of-type {\n",
       "        vertical-align: middle;\n",
       "    }\n",
       "\n",
       "    .dataframe tbody tr th {\n",
       "        vertical-align: top;\n",
       "    }\n",
       "\n",
       "    .dataframe thead th {\n",
       "        text-align: right;\n",
       "    }\n",
       "</style>\n",
       "<table border=\"1\" class=\"dataframe\">\n",
       "  <thead>\n",
       "    <tr style=\"text-align: right;\">\n",
       "      <th></th>\n",
       "      <th>x</th>\n",
       "      <th>y</th>\n",
       "      <th>distance</th>\n",
       "      <th>angle</th>\n",
       "      <th>freekick</th>\n",
       "      <th>header</th>\n",
       "      <th>goal</th>\n",
       "    </tr>\n",
       "  </thead>\n",
       "  <tbody>\n",
       "    <tr>\n",
       "      <th>0</th>\n",
       "      <td>12.48</td>\n",
       "      <td>6.12</td>\n",
       "      <td>13.899813</td>\n",
       "      <td>26.933236</td>\n",
       "      <td>0</td>\n",
       "      <td>0</td>\n",
       "      <td>1</td>\n",
       "    </tr>\n",
       "    <tr>\n",
       "      <th>1</th>\n",
       "      <td>15.60</td>\n",
       "      <td>-1.36</td>\n",
       "      <td>15.659170</td>\n",
       "      <td>26.224941</td>\n",
       "      <td>0</td>\n",
       "      <td>0</td>\n",
       "      <td>0</td>\n",
       "    </tr>\n",
       "    <tr>\n",
       "      <th>2</th>\n",
       "      <td>4.16</td>\n",
       "      <td>-1.36</td>\n",
       "      <td>4.376665</td>\n",
       "      <td>79.289489</td>\n",
       "      <td>0</td>\n",
       "      <td>1</td>\n",
       "      <td>1</td>\n",
       "    </tr>\n",
       "    <tr>\n",
       "      <th>3</th>\n",
       "      <td>19.76</td>\n",
       "      <td>11.56</td>\n",
       "      <td>22.893038</td>\n",
       "      <td>15.813597</td>\n",
       "      <td>0</td>\n",
       "      <td>0</td>\n",
       "      <td>0</td>\n",
       "    </tr>\n",
       "    <tr>\n",
       "      <th>4</th>\n",
       "      <td>26.00</td>\n",
       "      <td>13.60</td>\n",
       "      <td>29.342120</td>\n",
       "      <td>12.655803</td>\n",
       "      <td>0</td>\n",
       "      <td>0</td>\n",
       "      <td>0</td>\n",
       "    </tr>\n",
       "    <tr>\n",
       "      <th>...</th>\n",
       "      <td>...</td>\n",
       "      <td>...</td>\n",
       "      <td>...</td>\n",
       "      <td>...</td>\n",
       "      <td>...</td>\n",
       "      <td>...</td>\n",
       "      <td>...</td>\n",
       "    </tr>\n",
       "    <tr>\n",
       "      <th>45940</th>\n",
       "      <td>8.32</td>\n",
       "      <td>-2.04</td>\n",
       "      <td>8.566446</td>\n",
       "      <td>45.433179</td>\n",
       "      <td>0</td>\n",
       "      <td>0</td>\n",
       "      <td>1</td>\n",
       "    </tr>\n",
       "    <tr>\n",
       "      <th>45941</th>\n",
       "      <td>36.40</td>\n",
       "      <td>-7.48</td>\n",
       "      <td>37.160603</td>\n",
       "      <td>11.025434</td>\n",
       "      <td>0</td>\n",
       "      <td>0</td>\n",
       "      <td>0</td>\n",
       "    </tr>\n",
       "    <tr>\n",
       "      <th>45942</th>\n",
       "      <td>19.76</td>\n",
       "      <td>11.56</td>\n",
       "      <td>22.893038</td>\n",
       "      <td>15.813597</td>\n",
       "      <td>0</td>\n",
       "      <td>0</td>\n",
       "      <td>0</td>\n",
       "    </tr>\n",
       "    <tr>\n",
       "      <th>45943</th>\n",
       "      <td>22.88</td>\n",
       "      <td>-17.68</td>\n",
       "      <td>28.914993</td>\n",
       "      <td>11.507036</td>\n",
       "      <td>0</td>\n",
       "      <td>0</td>\n",
       "      <td>0</td>\n",
       "    </tr>\n",
       "    <tr>\n",
       "      <th>45944</th>\n",
       "      <td>31.20</td>\n",
       "      <td>14.28</td>\n",
       "      <td>34.312657</td>\n",
       "      <td>11.101118</td>\n",
       "      <td>0</td>\n",
       "      <td>0</td>\n",
       "      <td>0</td>\n",
       "    </tr>\n",
       "  </tbody>\n",
       "</table>\n",
       "<p>45945 rows × 7 columns</p>\n",
       "</div>"
      ],
      "text/plain": [
       "           x      y   distance      angle  freekick  header  goal\n",
       "0      12.48   6.12  13.899813  26.933236         0       0     1\n",
       "1      15.60  -1.36  15.659170  26.224941         0       0     0\n",
       "2       4.16  -1.36   4.376665  79.289489         0       1     1\n",
       "3      19.76  11.56  22.893038  15.813597         0       0     0\n",
       "4      26.00  13.60  29.342120  12.655803         0       0     0\n",
       "...      ...    ...        ...        ...       ...     ...   ...\n",
       "45940   8.32  -2.04   8.566446  45.433179         0       0     1\n",
       "45941  36.40  -7.48  37.160603  11.025434         0       0     0\n",
       "45942  19.76  11.56  22.893038  15.813597         0       0     0\n",
       "45943  22.88 -17.68  28.914993  11.507036         0       0     0\n",
       "45944  31.20  14.28  34.312657  11.101118         0       0     0\n",
       "\n",
       "[45945 rows x 7 columns]"
      ]
     },
     "execution_count": 2,
     "metadata": {},
     "output_type": "execute_result"
    }
   ],
   "source": [
    "shots = pd.read_pickle('data/shots.pkl')\n",
    "feature_cols = ['x', 'y', 'distance', 'angle', 'freekick', 'header', 'goal']\n",
    "shot_features = shots[feature_cols]\n",
    "shot_features"
   ]
  },
  {
   "cell_type": "markdown",
   "metadata": {},
   "source": [
    "### 단일 변수 로지스틱 회귀 기반 xG 산출"
   ]
  },
  {
   "cell_type": "markdown",
   "metadata": {},
   "source": [
    "##### (1) 슈팅 각도 기반 xG 모델 학습"
   ]
  },
  {
   "cell_type": "markdown",
   "metadata": {},
   "source": [
    "- 슈팅 각도에 따른 득점 여부 시각화"
   ]
  },
  {
   "cell_type": "code",
   "execution_count": 3,
   "metadata": {},
   "outputs": [
    {
     "data": {
      "image/png": "[encoded data removed]",
      "text/plain": [
       "<Figure size 720x360 with 1 Axes>"
      ]
     },
     "metadata": {
      "needs_background": "light"
     },
     "output_type": "display_data"
    }
   ],
   "source": [
    "plt.figure(figsize=(10, 5))\n",
    "plt.rcParams.update({'font.size': 15})\n",
    "\n",
    "angles = shot_features[:100]['angle']\n",
    "goals = shot_features[:100]['goal']\n",
    "plt.scatter(angles, goals, s=50)\n",
    "\n",
    "plt.xlabel(\"Shot angle (degrees)\")\n",
    "plt.ylabel('Goal scored')\n",
    "\n",
    "plt.yticks([0, 1], labels=['No', 'Yes'])\n",
    "plt.show()"
   ]
  },
  {
   "cell_type": "markdown",
   "metadata": {},
   "source": [
    "- 슈팅 각도 구간별 득점 확률 산출"
   ]
  },
  {
   "cell_type": "code",
   "execution_count": 4,
   "metadata": {},
   "outputs": [
    {
     "data": {
      "text/plain": [
       "angle\n",
       "[0, 3)        0.000000\n",
       "[3, 6)        0.103774\n",
       "[6, 9)        0.046703\n",
       "[9, 12)       0.020686\n",
       "[12, 15)      0.033602\n",
       "[15, 18)      0.048739\n",
       "[18, 21)      0.072339\n",
       "[21, 24)      0.106334\n",
       "[24, 27)      0.127551\n",
       "[27, 30)      0.144830\n",
       "[30, 33)      0.138327\n",
       "[33, 36)      0.270157\n",
       "[36, 39)      0.286483\n",
       "[39, 42)      0.204023\n",
       "[42, 45)      0.243517\n",
       "[45, 48)      0.244898\n",
       "[48, 51)      0.324324\n",
       "[51, 54)      0.288770\n",
       "[54, 57)      0.292308\n",
       "[57, 60)      0.327434\n",
       "[60, 63)      0.329861\n",
       "[63, 66)      0.435583\n",
       "[66, 69)      0.328767\n",
       "[69, 72)      0.514768\n",
       "[72, 75)           NaN\n",
       "[75, 78)      0.583333\n",
       "[78, 81)      0.519380\n",
       "[81, 84)      0.530973\n",
       "[84, 87)           NaN\n",
       "[87, 90)      0.562500\n",
       "[90, 93)           NaN\n",
       "[93, 96)      0.666667\n",
       "[96, 99)      0.683333\n",
       "[99, 102)     0.750000\n",
       "[102, 105)         NaN\n",
       "[105, 108)    0.730769\n",
       "[108, 111)         NaN\n",
       "[111, 114)         NaN\n",
       "[114, 117)    0.791667\n",
       "[117, 120)    0.565217\n",
       "[120, 123)    0.631579\n",
       "[123, 126)         NaN\n",
       "[126, 129)         NaN\n",
       "[129, 132)         NaN\n",
       "[132, 135)         NaN\n",
       "[135, 138)    1.000000\n",
       "[138, 141)    1.000000\n",
       "[141, 144)    0.777778\n",
       "[144, 147)    1.000000\n",
       "[147, 150)    1.000000\n",
       "[150, 153)         NaN\n",
       "[153, 156)         NaN\n",
       "[156, 159)         NaN\n",
       "[159, 162)         NaN\n",
       "[162, 165)         NaN\n",
       "[165, 168)         NaN\n",
       "[168, 171)         NaN\n",
       "[171, 174)         NaN\n",
       "[174, 177)         NaN\n",
       "Name: goal, dtype: float64"
      ]
     },
     "execution_count": 4,
     "metadata": {},
     "output_type": "execute_result"
    }
   ],
   "source": [
    "bins = np.arange(0, 180, 3)\n",
    "angle_cats = pd.cut(shot_features['angle'], bins, right=False)\n",
    "probs_per_angle = shot_features.groupby(angle_cats)['goal'].mean()\n",
    "probs_per_angle"
   ]
  },
  {
   "cell_type": "markdown",
   "metadata": {},
   "source": [
    "- 슈팅 각도 구간별 득점 확률 시각화"
   ]
  },
  {
   "cell_type": "code",
   "execution_count": 5,
   "metadata": {},
   "outputs": [
    {
     "data": {
      "image/png": "[encoded data removed]",
      "text/plain": [
       "<Figure size 720x360 with 1 Axes>"
      ]
     },
     "metadata": {
      "needs_background": "light"
     },
     "output_type": "display_data"
    }
   ],
   "source": [
    "plt.figure(figsize=(10, 5))\n",
    "plt.rcParams.update({'font.size': 15})\n",
    "plt.scatter(bins[:-1] + 1.5, probs_per_angle.values, s=50)\n",
    "\n",
    "plt.xlabel(\"Shot angle (degrees)\")\n",
    "plt.ylabel('Probability of a shot scored')\n",
    "plt.show()"
   ]
  },
  {
   "cell_type": "markdown",
   "metadata": {},
   "source": [
    "- 슈팅 각도와 득점 여부 간 로지스틱 회귀 모델 학습"
   ]
  },
  {
   "cell_type": "code",
   "execution_count": 6,
   "metadata": {},
   "outputs": [
    {
     "data": {
      "text/plain": [
       "Intercept   -3.553267\n",
       "angle        0.053492\n",
       "dtype: float64"
      ]
     },
     "execution_count": 6,
     "metadata": {},
     "output_type": "execute_result"
    }
   ],
   "source": [
    "xg_angle_fit = smf.glm(formula='goal ~ angle', data=shot_features, family=sm.families.Binomial()).fit()\n",
    "xg_angle_fit.params"
   ]
  },
  {
   "cell_type": "markdown",
   "metadata": {},
   "source": [
    "- 슈팅 각도 구간별 득점 확률 및 xG 비교"
   ]
  },
  {
   "cell_type": "code",
   "execution_count": 7,
   "metadata": {},
   "outputs": [
    {
     "data": {
      "image/png": "[encoded data removed]",
      "text/plain": [
       "<Figure size 720x360 with 1 Axes>"
      ]
     },
     "metadata": {
      "needs_background": "light"
     },
     "output_type": "display_data"
    }
   ],
   "source": [
    "plt.figure(figsize=(10, 5))\n",
    "plt.scatter(bins[:-1] + 1.5, probs_per_angle.values, s=50)\n",
    "\n",
    "a, b = xg_angle_fit.params\n",
    "x = np.arange(0, 150)\n",
    "y = 1 / (1 + np.exp(-a - b * x))\n",
    "plt.plot(x, y, c='black')\n",
    "\n",
    "plt.xlabel(\"Shot angle (degrees)\")\n",
    "plt.ylabel('Probability of a shot scored')\n",
    "plt.show()"
   ]
  },
  {
   "cell_type": "markdown",
   "metadata": {},
   "source": [
    "##### (2) 슈팅 거리 기반 xG 모델 학습"
   ]
  },
  {
   "cell_type": "markdown",
   "metadata": {},
   "source": [
    "- 슈팅 거리 구간별 득점 확률 산출"
   ]
  },
  {
   "cell_type": "code",
   "execution_count": 8,
   "metadata": {},
   "outputs": [
    {
     "data": {
      "text/plain": [
       "distance\n",
       "[1, 2)      0.923077\n",
       "[2, 3)      0.710000\n",
       "[3, 4)      0.630769\n",
       "[4, 5)      0.552311\n",
       "[5, 6)      0.400998\n",
       "[6, 7)      0.296519\n",
       "[7, 8)      0.267745\n",
       "[8, 9)      0.231275\n",
       "[9, 10)     0.191076\n",
       "[10, 11)    0.236790\n",
       "[11, 12)    0.218467\n",
       "[12, 13)    0.132162\n",
       "[13, 14)    0.121698\n",
       "[14, 15)    0.111020\n",
       "[15, 16)    0.109316\n",
       "[16, 17)    0.079202\n",
       "[17, 18)    0.080117\n",
       "[18, 19)    0.070676\n",
       "[19, 20)    0.047238\n",
       "[20, 21)    0.046901\n",
       "[21, 22)    0.044577\n",
       "[22, 23)    0.034559\n",
       "[23, 24)    0.050145\n",
       "[24, 25)    0.034182\n",
       "[25, 26)    0.032131\n",
       "[26, 27)    0.030928\n",
       "[27, 28)    0.024473\n",
       "[28, 29)    0.028534\n",
       "[29, 30)    0.027397\n",
       "[30, 31)    0.015018\n",
       "[31, 32)    0.020170\n",
       "[32, 33)    0.025424\n",
       "[33, 34)    0.020202\n",
       "[34, 35)    0.006154\n",
       "[35, 36)    0.004292\n",
       "[36, 37)    0.029240\n",
       "[37, 38)    0.023810\n",
       "[38, 39)    0.000000\n",
       "[39, 40)    0.063830\n",
       "[40, 41)    0.000000\n",
       "[41, 42)    0.000000\n",
       "[42, 43)    0.052632\n",
       "[43, 44)    0.000000\n",
       "[44, 45)    0.071429\n",
       "[45, 46)    0.076923\n",
       "[46, 47)    0.100000\n",
       "[47, 48)    0.000000\n",
       "[48, 49)    0.000000\n",
       "[49, 50)    0.000000\n",
       "Name: goal, dtype: float64"
      ]
     },
     "execution_count": 8,
     "metadata": {},
     "output_type": "execute_result"
    }
   ],
   "source": [
    "bins = np.arange(0, 50, 1) + 1\n",
    "dist_cats = pd.cut(shot_features['distance'], bins, right=False)\n",
    "probs_per_dist = shot_features.groupby(dist_cats)['goal'].mean()\n",
    "probs_per_dist"
   ]
  },
  {
   "cell_type": "markdown",
   "metadata": {},
   "source": [
    "- 슈팅 거리 구간별 득점 확률 시각화"
   ]
  },
  {
   "cell_type": "code",
   "execution_count": 9,
   "metadata": {},
   "outputs": [
    {
     "data": {
      "image/png": "[encoded data removed]",
      "text/plain": [
       "<Figure size 720x360 with 1 Axes>"
      ]
     },
     "metadata": {
      "needs_background": "light"
     },
     "output_type": "display_data"
    }
   ],
   "source": [
    "plt.figure(figsize=(10, 5))\n",
    "plt.scatter(bins[:-1], probs_per_dist.values, s=50)\n",
    "\n",
    "plt.xlabel(\"Shot distance (m)\")\n",
    "plt.ylabel('Probability of a shot scored')\n",
    "plt.show()"
   ]
  },
  {
   "cell_type": "markdown",
   "metadata": {},
   "source": [
    "- 슈팅 거리와 득점 여부 간 로지스틱 회귀 모델 학습"
   ]
  },
  {
   "cell_type": "code",
   "execution_count": 10,
   "metadata": {},
   "outputs": [
    {
     "data": {
      "text/plain": [
       "Intercept    0.075741\n",
       "distance    -0.136982\n",
       "dtype: float64"
      ]
     },
     "execution_count": 10,
     "metadata": {},
     "output_type": "execute_result"
    }
   ],
   "source": [
    "xg_dist_fit = smf.glm(formula='goal ~ distance', data=shot_features, family=sm.families.Binomial()).fit()\n",
    "xg_dist_fit.params"
   ]
  },
  {
   "cell_type": "markdown",
   "metadata": {},
   "source": [
    "- 슈팅 거리 구간별 득점 확률 및 xG 비교"
   ]
  },
  {
   "cell_type": "code",
   "execution_count": 11,
   "metadata": {},
   "outputs": [
    {
     "data": {
      "image/png": "[encoded data removed]",
      "text/plain": [
       "<Figure size 720x360 with 1 Axes>"
      ]
     },
     "metadata": {
      "needs_background": "light"
     },
     "output_type": "display_data"
    }
   ],
   "source": [
    "plt.figure(figsize=(10, 5))\n",
    "plt.scatter(bins[:-1], probs_per_dist.values, s=50)\n",
    "\n",
    "a, b = xg_dist_fit.params\n",
    "x = np.arange(0, 50, 1)\n",
    "y = 1 / (1 + np.exp(-a - b * x))\n",
    "plt.plot(x, y, c='black')\n",
    "\n",
    "plt.xlabel(\"Shot distance (m)\")\n",
    "plt.ylabel('Probability of a shot scored')\n",
    "plt.show()"
   ]
  },
  {
   "cell_type": "markdown",
   "metadata": {},
   "source": [
    "### 다중 변수 로지스틱 회귀 기반 최종 xG 산출"
   ]
  },
  {
   "cell_type": "markdown",
   "metadata": {},
   "source": [
    "##### (1) 로지스틱 회귀 모델 학습"
   ]
  },
  {
   "cell_type": "code",
   "execution_count": 12,
   "metadata": {},
   "outputs": [
    {
     "name": "stdout",
     "output_type": "stream",
     "text": [
      "                 Generalized Linear Model Regression Results                  \n",
      "==============================================================================\n",
      "Dep. Variable:                   goal   No. Observations:                45945\n",
      "Model:                            GLM   Df Residuals:                    45938\n",
      "Model Family:                Binomial   Df Model:                            6\n",
      "Link Function:                  logit   Scale:                          1.0000\n",
      "Method:                          IRLS   Log-Likelihood:                -13243.\n",
      "Date:                Thu, 21 Dec 2023   Deviance:                       26487.\n",
      "Time:                        13:15:56   Pearson chi2:                 9.66e+05\n",
      "No. Iterations:                     7                                         \n",
      "Covariance Type:            nonrobust                                         \n",
      "==============================================================================\n",
      "                 coef    std err          z      P>|z|      [0.025      0.975]\n",
      "------------------------------------------------------------------------------\n",
      "Intercept     -0.9186      0.113     -8.094      0.000      -1.141      -0.696\n",
      "x              0.0283      0.008      3.488      0.000       0.012       0.044\n",
      "y              0.0034      0.002      1.534      0.125      -0.001       0.008\n",
      "distance      -0.1404      0.010    -14.201      0.000      -0.160      -0.121\n",
      "angle          0.0265      0.002     15.382      0.000       0.023       0.030\n",
      "freekick       1.5535      0.059     26.355      0.000       1.438       1.669\n",
      "header        -1.0303      0.046    -22.617      0.000      -1.120      -0.941\n",
      "==============================================================================\n"
     ]
    }
   ],
   "source": [
    "formula = 'goal ~ x + y + distance + angle + freekick + header'\n",
    "xg_fit = smf.glm(formula=formula, data=shot_features, family=sm.families.Binomial()).fit()\n",
    "print(xg_fit.summary())"
   ]
  },
  {
   "cell_type": "code",
   "execution_count": 13,
   "metadata": {},
   "outputs": [
    {
     "name": "stdout",
     "output_type": "stream",
     "text": [
      "Goal probability = sigmoid(\n",
      "    -0.9186 +\n",
      "     0.0283 * x + \n",
      "     0.0034 * y +\n",
      "    -0.1404 * distance +\n",
      "     0.0265 * angle +\n",
      "     1.5535 * freekick +\n",
      "    -1.0303 * header\n",
      ")\n"
     ]
    }
   ],
   "source": [
    "print(f'''Goal probability = sigmoid(\n",
    "    {xg_fit.params[0]:.4f} +\n",
    "     {xg_fit.params[1]:.4f} * x + \n",
    "     {xg_fit.params[2]:.4f} * y +\n",
    "    {xg_fit.params[3]:.4f} * distance +\n",
    "     {xg_fit.params[4]:.4f} * angle +\n",
    "     {xg_fit.params[5]:.4f} * freekick +\n",
    "    {xg_fit.params[6]:.4f} * header\n",
    ")''')"
   ]
  },
  {
   "cell_type": "markdown",
   "metadata": {},
   "source": [
    "##### (2) 학습된 모델 기반 슈팅별 xG 산출"
   ]
  },
  {
   "cell_type": "code",
   "execution_count": 14,
   "metadata": {},
   "outputs": [
    {
     "data": {
      "text/html": [
       "<div>\n",
       "<style scoped>\n",
       "    .dataframe tbody tr th:only-of-type {\n",
       "        vertical-align: middle;\n",
       "    }\n",
       "\n",
       "    .dataframe tbody tr th {\n",
       "        vertical-align: top;\n",
       "    }\n",
       "\n",
       "    .dataframe thead th {\n",
       "        text-align: right;\n",
       "    }\n",
       "</style>\n",
       "<table border=\"1\" class=\"dataframe\">\n",
       "  <thead>\n",
       "    <tr style=\"text-align: right;\">\n",
       "      <th></th>\n",
       "      <th>x</th>\n",
       "      <th>y</th>\n",
       "      <th>distance</th>\n",
       "      <th>angle</th>\n",
       "      <th>freekick</th>\n",
       "      <th>header</th>\n",
       "      <th>goal</th>\n",
       "      <th>xg</th>\n",
       "    </tr>\n",
       "  </thead>\n",
       "  <tbody>\n",
       "    <tr>\n",
       "      <th>0</th>\n",
       "      <td>12.48</td>\n",
       "      <td>6.12</td>\n",
       "      <td>13.899813</td>\n",
       "      <td>26.933236</td>\n",
       "      <td>0</td>\n",
       "      <td>0</td>\n",
       "      <td>1</td>\n",
       "      <td>0.143848</td>\n",
       "    </tr>\n",
       "    <tr>\n",
       "      <th>1</th>\n",
       "      <td>15.60</td>\n",
       "      <td>-1.36</td>\n",
       "      <td>15.659170</td>\n",
       "      <td>26.224941</td>\n",
       "      <td>0</td>\n",
       "      <td>0</td>\n",
       "      <td>0</td>\n",
       "      <td>0.120612</td>\n",
       "    </tr>\n",
       "    <tr>\n",
       "      <th>2</th>\n",
       "      <td>4.16</td>\n",
       "      <td>-1.36</td>\n",
       "      <td>4.376665</td>\n",
       "      <td>79.289489</td>\n",
       "      <td>0</td>\n",
       "      <td>1</td>\n",
       "      <td>1</td>\n",
       "      <td>0.412967</td>\n",
       "    </tr>\n",
       "    <tr>\n",
       "      <th>3</th>\n",
       "      <td>19.76</td>\n",
       "      <td>11.56</td>\n",
       "      <td>22.893038</td>\n",
       "      <td>15.813597</td>\n",
       "      <td>0</td>\n",
       "      <td>0</td>\n",
       "      <td>0</td>\n",
       "      <td>0.042434</td>\n",
       "    </tr>\n",
       "    <tr>\n",
       "      <th>4</th>\n",
       "      <td>26.00</td>\n",
       "      <td>13.60</td>\n",
       "      <td>29.342120</td>\n",
       "      <td>12.655803</td>\n",
       "      <td>0</td>\n",
       "      <td>0</td>\n",
       "      <td>0</td>\n",
       "      <td>0.019414</td>\n",
       "    </tr>\n",
       "    <tr>\n",
       "      <th>...</th>\n",
       "      <td>...</td>\n",
       "      <td>...</td>\n",
       "      <td>...</td>\n",
       "      <td>...</td>\n",
       "      <td>...</td>\n",
       "      <td>...</td>\n",
       "      <td>...</td>\n",
       "      <td>...</td>\n",
       "    </tr>\n",
       "    <tr>\n",
       "      <th>45940</th>\n",
       "      <td>8.32</td>\n",
       "      <td>-2.04</td>\n",
       "      <td>8.566446</td>\n",
       "      <td>45.433179</td>\n",
       "      <td>0</td>\n",
       "      <td>0</td>\n",
       "      <td>1</td>\n",
       "      <td>0.333921</td>\n",
       "    </tr>\n",
       "    <tr>\n",
       "      <th>45941</th>\n",
       "      <td>36.40</td>\n",
       "      <td>-7.48</td>\n",
       "      <td>37.160603</td>\n",
       "      <td>11.025434</td>\n",
       "      <td>0</td>\n",
       "      <td>0</td>\n",
       "      <td>0</td>\n",
       "      <td>0.007840</td>\n",
       "    </tr>\n",
       "    <tr>\n",
       "      <th>45942</th>\n",
       "      <td>19.76</td>\n",
       "      <td>11.56</td>\n",
       "      <td>22.893038</td>\n",
       "      <td>15.813597</td>\n",
       "      <td>0</td>\n",
       "      <td>0</td>\n",
       "      <td>0</td>\n",
       "      <td>0.042434</td>\n",
       "    </tr>\n",
       "    <tr>\n",
       "      <th>45943</th>\n",
       "      <td>22.88</td>\n",
       "      <td>-17.68</td>\n",
       "      <td>28.914993</td>\n",
       "      <td>11.507036</td>\n",
       "      <td>0</td>\n",
       "      <td>0</td>\n",
       "      <td>0</td>\n",
       "      <td>0.016508</td>\n",
       "    </tr>\n",
       "    <tr>\n",
       "      <th>45944</th>\n",
       "      <td>31.20</td>\n",
       "      <td>14.28</td>\n",
       "      <td>34.312657</td>\n",
       "      <td>11.101118</td>\n",
       "      <td>0</td>\n",
       "      <td>0</td>\n",
       "      <td>0</td>\n",
       "      <td>0.010859</td>\n",
       "    </tr>\n",
       "  </tbody>\n",
       "</table>\n",
       "<p>45945 rows × 8 columns</p>\n",
       "</div>"
      ],
      "text/plain": [
       "           x      y   distance      angle  freekick  header  goal        xg\n",
       "0      12.48   6.12  13.899813  26.933236         0       0     1  0.143848\n",
       "1      15.60  -1.36  15.659170  26.224941         0       0     0  0.120612\n",
       "2       4.16  -1.36   4.376665  79.289489         0       1     1  0.412967\n",
       "3      19.76  11.56  22.893038  15.813597         0       0     0  0.042434\n",
       "4      26.00  13.60  29.342120  12.655803         0       0     0  0.019414\n",
       "...      ...    ...        ...        ...       ...     ...   ...       ...\n",
       "45940   8.32  -2.04   8.566446  45.433179         0       0     1  0.333921\n",
       "45941  36.40  -7.48  37.160603  11.025434         0       0     0  0.007840\n",
       "45942  19.76  11.56  22.893038  15.813597         0       0     0  0.042434\n",
       "45943  22.88 -17.68  28.914993  11.507036         0       0     0  0.016508\n",
       "45944  31.20  14.28  34.312657  11.101118         0       0     0  0.010859\n",
       "\n",
       "[45945 rows x 8 columns]"
      ]
     },
     "execution_count": 14,
     "metadata": {},
     "output_type": "execute_result"
    }
   ],
   "source": [
    "sum = xg_fit.params[0]\n",
    "for i, c in enumerate(shot_features.columns[:6]):\n",
    "    sum += xg_fit.params[i+1] * shot_features[c]\n",
    "\n",
    "shot_features['xg'] = 1 / (1 + np.exp(-sum))\n",
    "shot_features"
   ]
  },
  {
   "cell_type": "code",
   "execution_count": 15,
   "metadata": {},
   "outputs": [],
   "source": [
    "shots = pd.concat([shots, shot_features[['xg']]], axis=1)\n",
    "shots.to_pickle('data/shots.pkl')"
   ]
  },
  {
   "cell_type": "markdown",
   "metadata": {},
   "source": [
    "##### (3) 1m x 1m 구역별 xG 산출"
   ]
  },
  {
   "cell_type": "code",
   "execution_count": 16,
   "metadata": {},
   "outputs": [
    {
     "data": {
      "text/plain": [
       "['x', 'y', 'distance', 'angle', 'freekick', 'header', 'goal']"
      ]
     },
     "execution_count": 16,
     "metadata": {},
     "output_type": "execute_result"
    }
   ],
   "source": [
    "feature_cols"
   ]
  },
  {
   "cell_type": "code",
   "execution_count": 17,
   "metadata": {},
   "outputs": [
    {
     "data": {
      "text/html": [
       "<div>\n",
       "<style scoped>\n",
       "    .dataframe tbody tr th:only-of-type {\n",
       "        vertical-align: middle;\n",
       "    }\n",
       "\n",
       "    .dataframe tbody tr th {\n",
       "        vertical-align: top;\n",
       "    }\n",
       "\n",
       "    .dataframe thead th {\n",
       "        text-align: right;\n",
       "    }\n",
       "</style>\n",
       "<table border=\"1\" class=\"dataframe\">\n",
       "  <thead>\n",
       "    <tr style=\"text-align: right;\">\n",
       "      <th></th>\n",
       "      <th>x_idx</th>\n",
       "      <th>y_idx</th>\n",
       "      <th>x</th>\n",
       "      <th>y</th>\n",
       "      <th>distance</th>\n",
       "      <th>angle</th>\n",
       "      <th>freekick</th>\n",
       "      <th>header</th>\n",
       "      <th>xg</th>\n",
       "    </tr>\n",
       "  </thead>\n",
       "  <tbody>\n",
       "    <tr>\n",
       "      <th>0</th>\n",
       "      <td>0</td>\n",
       "      <td>0</td>\n",
       "      <td>0.52</td>\n",
       "      <td>-33.46875</td>\n",
       "      <td>33.472789</td>\n",
       "      <td>0.197004</td>\n",
       "      <td>0</td>\n",
       "      <td>0</td>\n",
       "      <td>0.003291</td>\n",
       "    </tr>\n",
       "    <tr>\n",
       "      <th>1</th>\n",
       "      <td>0</td>\n",
       "      <td>1</td>\n",
       "      <td>0.52</td>\n",
       "      <td>-32.40625</td>\n",
       "      <td>32.410422</td>\n",
       "      <td>0.210300</td>\n",
       "      <td>0</td>\n",
       "      <td>0</td>\n",
       "      <td>0.003833</td>\n",
       "    </tr>\n",
       "    <tr>\n",
       "      <th>2</th>\n",
       "      <td>0</td>\n",
       "      <td>2</td>\n",
       "      <td>0.52</td>\n",
       "      <td>-31.34375</td>\n",
       "      <td>31.348063</td>\n",
       "      <td>0.224996</td>\n",
       "      <td>0</td>\n",
       "      <td>0</td>\n",
       "      <td>0.004465</td>\n",
       "    </tr>\n",
       "    <tr>\n",
       "      <th>3</th>\n",
       "      <td>0</td>\n",
       "      <td>3</td>\n",
       "      <td>0.52</td>\n",
       "      <td>-30.28125</td>\n",
       "      <td>30.285714</td>\n",
       "      <td>0.241295</td>\n",
       "      <td>0</td>\n",
       "      <td>0</td>\n",
       "      <td>0.005201</td>\n",
       "    </tr>\n",
       "    <tr>\n",
       "      <th>4</th>\n",
       "      <td>0</td>\n",
       "      <td>4</td>\n",
       "      <td>0.52</td>\n",
       "      <td>-29.21875</td>\n",
       "      <td>29.223377</td>\n",
       "      <td>0.259442</td>\n",
       "      <td>0</td>\n",
       "      <td>0</td>\n",
       "      <td>0.006057</td>\n",
       "    </tr>\n",
       "    <tr>\n",
       "      <th>...</th>\n",
       "      <td>...</td>\n",
       "      <td>...</td>\n",
       "      <td>...</td>\n",
       "      <td>...</td>\n",
       "      <td>...</td>\n",
       "      <td>...</td>\n",
       "      <td>...</td>\n",
       "      <td>...</td>\n",
       "      <td>...</td>\n",
       "    </tr>\n",
       "    <tr>\n",
       "      <th>3195</th>\n",
       "      <td>49</td>\n",
       "      <td>59</td>\n",
       "      <td>51.48</td>\n",
       "      <td>29.21875</td>\n",
       "      <td>59.193967</td>\n",
       "      <td>6.161722</td>\n",
       "      <td>0</td>\n",
       "      <td>0</td>\n",
       "      <td>0.000546</td>\n",
       "    </tr>\n",
       "    <tr>\n",
       "      <th>3196</th>\n",
       "      <td>49</td>\n",
       "      <td>60</td>\n",
       "      <td>51.48</td>\n",
       "      <td>30.28125</td>\n",
       "      <td>59.725577</td>\n",
       "      <td>6.052930</td>\n",
       "      <td>0</td>\n",
       "      <td>0</td>\n",
       "      <td>0.000507</td>\n",
       "    </tr>\n",
       "    <tr>\n",
       "      <th>3197</th>\n",
       "      <td>49</td>\n",
       "      <td>61</td>\n",
       "      <td>51.48</td>\n",
       "      <td>31.34375</td>\n",
       "      <td>60.271229</td>\n",
       "      <td>5.944216</td>\n",
       "      <td>0</td>\n",
       "      <td>0</td>\n",
       "      <td>0.000470</td>\n",
       "    </tr>\n",
       "    <tr>\n",
       "      <th>3198</th>\n",
       "      <td>49</td>\n",
       "      <td>62</td>\n",
       "      <td>51.48</td>\n",
       "      <td>32.40625</td>\n",
       "      <td>60.830547</td>\n",
       "      <td>5.835773</td>\n",
       "      <td>0</td>\n",
       "      <td>0</td>\n",
       "      <td>0.000435</td>\n",
       "    </tr>\n",
       "    <tr>\n",
       "      <th>3199</th>\n",
       "      <td>49</td>\n",
       "      <td>63</td>\n",
       "      <td>51.48</td>\n",
       "      <td>33.46875</td>\n",
       "      <td>61.403156</td>\n",
       "      <td>5.727782</td>\n",
       "      <td>0</td>\n",
       "      <td>0</td>\n",
       "      <td>0.000402</td>\n",
       "    </tr>\n",
       "  </tbody>\n",
       "</table>\n",
       "<p>3200 rows × 9 columns</p>\n",
       "</div>"
      ],
      "text/plain": [
       "      x_idx  y_idx      x         y   distance     angle  freekick  header  \\\n",
       "0         0      0   0.52 -33.46875  33.472789  0.197004         0       0   \n",
       "1         0      1   0.52 -32.40625  32.410422  0.210300         0       0   \n",
       "2         0      2   0.52 -31.34375  31.348063  0.224996         0       0   \n",
       "3         0      3   0.52 -30.28125  30.285714  0.241295         0       0   \n",
       "4         0      4   0.52 -29.21875  29.223377  0.259442         0       0   \n",
       "...     ...    ...    ...       ...        ...       ...       ...     ...   \n",
       "3195     49     59  51.48  29.21875  59.193967  6.161722         0       0   \n",
       "3196     49     60  51.48  30.28125  59.725577  6.052930         0       0   \n",
       "3197     49     61  51.48  31.34375  60.271229  5.944216         0       0   \n",
       "3198     49     62  51.48  32.40625  60.830547  5.835773         0       0   \n",
       "3199     49     63  51.48  33.46875  61.403156  5.727782         0       0   \n",
       "\n",
       "            xg  \n",
       "0     0.003291  \n",
       "1     0.003833  \n",
       "2     0.004465  \n",
       "3     0.005201  \n",
       "4     0.006057  \n",
       "...        ...  \n",
       "3195  0.000546  \n",
       "3196  0.000507  \n",
       "3197  0.000470  \n",
       "3198  0.000435  \n",
       "3199  0.000402  \n",
       "\n",
       "[3200 rows x 9 columns]"
      ]
     },
     "execution_count": 17,
     "metadata": {},
     "output_type": "execute_result"
    }
   ],
   "source": [
    "shot_grid = []\n",
    "m = 50\n",
    "n = 64\n",
    "\n",
    "for x_idx in range(m):\n",
    "    for y_idx in range(n):\n",
    "        x = (x_idx + 0.5) * 52 / m\n",
    "        y = (y_idx + 0.5) * 68 / n - 34\n",
    "        shot_grid.append({'x_idx': x_idx, 'y_idx': y_idx, 'x': x, 'y': y})\n",
    "\n",
    "shot_grid = pd.DataFrame(shot_grid)\n",
    "shot_grid['distance'] = shot_grid[['x', 'y']].apply(np.linalg.norm, axis=1)\n",
    "\n",
    "x = shot_grid['x']\n",
    "y = shot_grid['y']\n",
    "goal_width = 7.32\n",
    "angles = np.arctan((goal_width * x) / (x ** 2 + y ** 2 - (goal_width / 2) ** 2))\n",
    "shot_grid['angle'] = np.where(angles >= 0, angles, angles + np.pi) * 180 / np.pi\n",
    "\n",
    "shot_grid['freekick'] = 0\n",
    "shot_grid['header'] = 0\n",
    "\n",
    "sum = xg_fit.params[0]\n",
    "for i, c in enumerate(feature_cols[:-1]):\n",
    "    sum += xg_fit.params[i+1] * shot_grid[c]\n",
    "\n",
    "shot_grid['xg'] = 1 / (1 + np.exp(-sum))\n",
    "shot_grid"
   ]
  },
  {
   "cell_type": "code",
   "execution_count": 18,
   "metadata": {},
   "outputs": [
    {
     "data": {
      "text/plain": [
       "array([[0.00329082, 0.0038334 , 0.00446521, ..., 0.00552042, 0.00477423,\n",
       "        0.00412864],\n",
       "       [0.00340865, 0.00397277, 0.00463027, ..., 0.00572426, 0.00494763,\n",
       "        0.00427634],\n",
       "       [0.00351449, 0.00409765, 0.00477782, ..., 0.00590646, 0.005103  ,\n",
       "        0.00440901],\n",
       "       ...,\n",
       "       [0.00038573, 0.00042181, 0.00046042, ..., 0.00056976, 0.00052578,\n",
       "        0.00048429],\n",
       "       [0.00035145, 0.00038383, 0.00041841, ..., 0.00051779, 0.00047844,\n",
       "        0.00044126],\n",
       "       [0.00031996, 0.000349  , 0.00037996, ..., 0.00047021, 0.00043503,\n",
       "        0.00040173]])"
      ]
     },
     "execution_count": 18,
     "metadata": {},
     "output_type": "execute_result"
    }
   ],
   "source": [
    "xg_heatmap = np.zeros((m, n))\n",
    "\n",
    "for i in shot_grid.index:\n",
    "    x_idx = shot_grid.at[i, 'x_idx']\n",
    "    y_idx = shot_grid.at[i, 'y_idx']\n",
    "    xg_heatmap[x_idx, y_idx] = shot_grid.at[i, 'xg']\n",
    "\n",
    "    # x = int(shot_grid.at[i, 'x'] - 0.5)\n",
    "    # y = int(shot_grid.at[i, 'y'] + 33.5)\n",
    "    # xg_heatmap[x, y] = shot_grid.at[i, 'xg']\n",
    "\n",
    "xg_heatmap"
   ]
  },
  {
   "cell_type": "markdown",
   "metadata": {},
   "source": [
    "##### (4) xG 히트맵 시각화"
   ]
  },
  {
   "cell_type": "code",
   "execution_count": 19,
   "metadata": {},
   "outputs": [
    {
     "data": {
      "image/png": "[encoded data removed]",
      "text/plain": [
       "<Figure size 979.2x748.8 with 2 Axes>"
      ]
     },
     "metadata": {
      "needs_background": "light"
     },
     "output_type": "display_data"
    }
   ],
   "source": [
    "fig, ax = draw_pitch(pitch='white', line='black', orientation='v', view='h')\n",
    "\n",
    "img = ax.imshow(xg_heatmap, extent=[0, 68, 52, 104], vmin=0, vmax=0.3, cmap='jet', alpha=0.7)\n",
    "fig.colorbar(img, ax=ax)\n",
    "plt.title('Goal probability (xG)', fontdict={'size': 25})\n",
    "\n",
    "plt.show()"
   ]
  },
  {
   "cell_type": "code",
   "execution_count": 20,
   "metadata": {},
   "outputs": [],
   "source": [
    "pd.DataFrame(xg_heatmap).to_csv('data/xg_heatmap.csv', index=False)"
   ]
  }
 ],
 "metadata": {
  "kernelspec": {
   "display_name": "Python 3",
   "language": "python",
   "name": "python3"
  },
  "language_info": {
   "codemirror_mode": {
    "name": "ipython",
    "version": 3
   },
   "file_extension": ".py",
   "mimetype": "text/x-python",
   "name": "python",
   "nbconvert_exporter": "python",
   "pygments_lexer": "ipython3",
   "version": "3.8.8"
  },
  "vscode": {
   "interpreter": {
    "hash": "b2229428593ed30f482d105244b52f2214d62638ed0cc5078189e23a80557466"
   }
  }
 },
 "nbformat": 4,
 "nbformat_minor": 2
}
