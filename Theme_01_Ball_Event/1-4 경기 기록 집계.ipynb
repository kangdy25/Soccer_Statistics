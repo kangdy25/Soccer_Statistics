{
 "cells": [
  {
   "cell_type": "markdown",
   "metadata": {},
   "source": [
    "### 강의에서 사용된 파이썬 주요 기능"
   ]
  },
  {
   "cell_type": "markdown",
   "metadata": {},
   "source": [
    "- 데이터 집계 기초\n",
    "  - pandas.Series.value_counts: https://pandas.pydata.org/docs/reference/api/pandas.Series.value_counts.html\n",
    "  - pandas.DataFrame.groupby: https://pandas.pydata.org/docs/reference/api/pandas.DataFrame.groupby.html\n",
    "  - pandas.DataFrame.pivot_table: https://pandas.pydata.org/docs/reference/api/pandas.DataFrame.pivot_table.html"
   ]
  },
  {
   "cell_type": "markdown",
   "metadata": {},
   "source": [
    "- 이벤트 성공 여부 집계\n",
    "  - pandas.DataFrame.apply: https://pandas.pydata.org/docs/reference/api/pandas.DataFrame.apply.html\n",
    "  - Lambda functions: https://wikidocs.net/22804"
   ]
  },
  {
   "cell_type": "markdown",
   "metadata": {},
   "source": [
    "### 경기 데이터 불러오기"
   ]
  },
  {
   "cell_type": "code",
   "execution_count": null,
   "metadata": {},
   "outputs": [],
   "source": [
    "import pandas as pd"
   ]
  },
  {
   "cell_type": "code",
   "execution_count": null,
   "metadata": {},
   "outputs": [],
   "source": [
    "match_id = 2058017\n",
    "match_events = pd.read_pickle(f'data/refined_events/World_Cup/{match_id}.pkl')\n",
    "match_events"
   ]
  },
  {
   "cell_type": "markdown",
   "metadata": {},
   "source": [
    "### 데이터 집계 기초"
   ]
  },
  {
   "cell_type": "markdown",
   "metadata": {},
   "source": [
    "##### (1) Series.value_counts 함수를 활용한 항목별 횟수 집계"
   ]
  },
  {
   "cell_type": "markdown",
   "metadata": {},
   "source": [
    "- 팀별 슈팅 횟수"
   ]
  },
  {
   "cell_type": "code",
   "execution_count": null,
   "metadata": {},
   "outputs": [],
   "source": [
    "shot_records = match_events[\n",
    "    (match_events['event_type'] == 'Shot') |\n",
    "    (match_events['sub_event_type'].isin(['Free kick shot', 'Penalty']))\n",
    "]\n",
    "shot_records['team_name'].value_counts()"
   ]
  },
  {
   "cell_type": "markdown",
   "metadata": {},
   "source": [
    "- 선수별 패스 횟수"
   ]
  },
  {
   "cell_type": "code",
   "execution_count": null,
   "metadata": {},
   "outputs": [],
   "source": [
    "pass_records = match_events[\n",
    "    (match_events['event_type'] == 'Pass') |\n",
    "    (match_events['sub_event_type'].isin(['Free kick', 'Free kick cross', 'corner']))\n",
    "]\n",
    "pass_records['player_name'].value_counts()"
   ]
  },
  {
   "cell_type": "markdown",
   "metadata": {},
   "source": [
    "##### (2) DataFrame.groupby 함수를 활용한 항목별 연산"
   ]
  },
  {
   "cell_type": "markdown",
   "metadata": {},
   "source": [
    "- 전후반 경기 시간"
   ]
  },
  {
   "cell_type": "code",
   "execution_count": null,
   "metadata": {},
   "outputs": [],
   "source": [
    "match_events.groupby('period')['time'].max()"
   ]
  },
  {
   "cell_type": "markdown",
   "metadata": {},
   "source": [
    "- 팀별 패스 발생 및 종료 위치"
   ]
  },
  {
   "cell_type": "code",
   "execution_count": null,
   "metadata": {},
   "outputs": [],
   "source": [
    "pass_records.groupby('team_name')[['start_x', 'start_y', 'end_x', 'end_y']].mean()"
   ]
  },
  {
   "cell_type": "markdown",
   "metadata": {},
   "source": [
    "- 각 이벤트 유형의 팀별 발생 횟수"
   ]
  },
  {
   "cell_type": "code",
   "execution_count": null,
   "metadata": {},
   "outputs": [],
   "source": [
    "match_events.groupby(['team_name', 'event_type'])['event_id'].count()"
   ]
  },
  {
   "cell_type": "markdown",
   "metadata": {},
   "source": [
    "##### (3) pandas.pivot_table 함수를 활용한 다차원 집계"
   ]
  },
  {
   "cell_type": "markdown",
   "metadata": {},
   "source": [
    "- 각 이벤트 유형의 팀별 발생 횟수"
   ]
  },
  {
   "cell_type": "code",
   "execution_count": null,
   "metadata": {},
   "outputs": [],
   "source": [
    "match_events.pivot_table(values='event_id', index='event_type', columns='team_name', aggfunc='count')"
   ]
  },
  {
   "cell_type": "code",
   "execution_count": null,
   "metadata": {},
   "outputs": [],
   "source": [
    "counts = match_events.pivot_table('event_id', 'event_type', 'team_name', 'count', fill_value=0)\n",
    "counts.sort_values('France', ascending=False)"
   ]
  },
  {
   "cell_type": "markdown",
   "metadata": {},
   "source": [
    "### 이벤트 성공 여부 집계"
   ]
  },
  {
   "cell_type": "code",
   "execution_count": null,
   "metadata": {},
   "outputs": [],
   "source": [
    "pass_records = match_events[\n",
    "    (match_events['event_type'] == 'Pass') |\n",
    "    (match_events['sub_event_type'].isin(['Free kick', 'Free kick cross', 'corner']))\n",
    "]\n",
    "pass_records.head()"
   ]
  },
  {
   "cell_type": "markdown",
   "metadata": {},
   "source": [
    "##### (1) 반복문 기반 성공 여부 판단"
   ]
  },
  {
   "cell_type": "code",
   "execution_count": null,
   "metadata": {},
   "outputs": [],
   "source": [
    "success_idx = []\n",
    "for i in pass_records.index:\n",
    "    tags = pass_records.at[i, 'tags']\n",
    "    if 'Accurate' in tags:\n",
    "        success_idx.append(i)\n",
    "\n",
    "acc_pass_records = pass_records.loc[success_idx]\n",
    "acc_pass_records"
   ]
  },
  {
   "cell_type": "markdown",
   "metadata": {},
   "source": [
    "##### (2) DataFrame.apply 함수 기반 성공 여부 판단"
   ]
  },
  {
   "cell_type": "code",
   "execution_count": null,
   "metadata": {},
   "outputs": [],
   "source": [
    "def is_accurate(tags):\n",
    "    return 'Accurate' in tags"
   ]
  },
  {
   "cell_type": "code",
   "execution_count": null,
   "metadata": {},
   "outputs": [],
   "source": [
    "pass_records['tags'].apply(is_accurate)"
   ]
  },
  {
   "cell_type": "code",
   "execution_count": null,
   "metadata": {},
   "outputs": [],
   "source": [
    "acc_pass_records = pass_records[pass_records['tags'].apply(is_accurate)]\n",
    "acc_pass_records"
   ]
  },
  {
   "cell_type": "markdown",
   "metadata": {},
   "source": [
    "##### (3) 람다 표현식(lambda expression) 기반 성공 여부 판단"
   ]
  },
  {
   "cell_type": "code",
   "execution_count": null,
   "metadata": {},
   "outputs": [],
   "source": [
    "acc_pass_records = pass_records[pass_records['tags'].apply(lambda x: 'Accurate' in x)]\n",
    "acc_pass_records"
   ]
  },
  {
   "cell_type": "markdown",
   "metadata": {},
   "source": [
    "### 경기 통계 정리"
   ]
  },
  {
   "cell_type": "markdown",
   "metadata": {},
   "source": [
    "##### (1) 패스 성공률 산출"
   ]
  },
  {
   "cell_type": "code",
   "execution_count": null,
   "metadata": {},
   "outputs": [],
   "source": [
    "total_pass_counts = pass_records['team_name'].value_counts().rename('total_passes')\n",
    "acc_pass_counts = acc_pass_records['team_name'].value_counts().rename('acc_passes')\n",
    "pass_counts = pd.concat([total_pass_counts, acc_pass_counts], axis=1)\n",
    "pass_counts"
   ]
  },
  {
   "cell_type": "code",
   "execution_count": null,
   "metadata": {},
   "outputs": [],
   "source": [
    "pass_counts['pass_accuracy'] = pass_counts['acc_passes'] / pass_counts['total_passes']\n",
    "pass_counts"
   ]
  },
  {
   "cell_type": "markdown",
   "metadata": {},
   "source": [
    "##### (2) 유효 슈팅 횟수 집계"
   ]
  },
  {
   "cell_type": "code",
   "execution_count": null,
   "metadata": {},
   "outputs": [],
   "source": [
    "shot_records = match_events[\n",
    "    (match_events['event_type'] == 'Shot') |\n",
    "    (match_events['sub_event_type'].isin(['Free kick shot', 'Penalty']))\n",
    "]\n",
    "acc_shot_records = shot_records[shot_records['tags'].apply(lambda x: 'Accurate' in x)]\n",
    "\n",
    "total_shot_counts = shot_records['team_name'].value_counts().rename('total_shots')\n",
    "acc_shot_counts = acc_shot_records['team_name'].value_counts().rename('shots_on_target')\n",
    "shot_counts = pd.concat([total_shot_counts, acc_shot_counts], axis=1)\n",
    "shot_counts"
   ]
  },
  {
   "cell_type": "markdown",
   "metadata": {},
   "source": [
    "##### (3) 득점 집계"
   ]
  },
  {
   "cell_type": "markdown",
   "metadata": {},
   "source": [
    "- 득점 기록 필터링"
   ]
  },
  {
   "cell_type": "code",
   "execution_count": null,
   "metadata": {},
   "outputs": [],
   "source": [
    "match_events[match_events['tags'].apply(lambda x: 'Goal' in x)]"
   ]
  },
  {
   "cell_type": "markdown",
   "metadata": {},
   "source": [
    "- 자책골 기록 필터링"
   ]
  },
  {
   "cell_type": "code",
   "execution_count": null,
   "metadata": {},
   "outputs": [],
   "source": [
    "match_events[match_events['tags'].apply(lambda x: 'Own goal' in x)]"
   ]
  },
  {
   "cell_type": "markdown",
   "metadata": {},
   "source": [
    "- 자책골 포함 양팀 득점 집계"
   ]
  },
  {
   "cell_type": "code",
   "execution_count": null,
   "metadata": {},
   "outputs": [],
   "source": [
    "team_names = match_events['team_name'].unique()\n",
    "goals = dict(zip(match_events['team_name'].unique(), [0, 0]))\n",
    "goals"
   ]
  },
  {
   "cell_type": "code",
   "execution_count": null,
   "metadata": {},
   "outputs": [],
   "source": [
    "goal_records = match_events[match_events['tags'].apply(lambda x: 'Goal' in x)]\n",
    "for i, event in goal_records.iterrows():\n",
    "    goals[event['team_name']] += 1\n",
    "\n",
    "own_goal_records = match_events[match_events['tags'].apply(lambda x: 'Own goal' in x)]\n",
    "for i, event in own_goal_records.iterrows():\n",
    "    opponent_name = [team for team in team_names if team != event['team_name']][0]\n",
    "    goals[opponent_name] += 1\n",
    "\n",
    "goals"
   ]
  },
  {
   "cell_type": "markdown",
   "metadata": {},
   "source": [
    "##### (4) 경기 통계 정리"
   ]
  },
  {
   "cell_type": "code",
   "execution_count": null,
   "metadata": {},
   "outputs": [],
   "source": [
    "counts"
   ]
  },
  {
   "cell_type": "code",
   "execution_count": null,
   "metadata": {},
   "outputs": [],
   "source": [
    "foul_counts = counts.T[['Foul', 'Offside']]\n",
    "foul_counts.columns = ['fouls', 'offsides']\n",
    "foul_counts"
   ]
  },
  {
   "cell_type": "code",
   "execution_count": null,
   "metadata": {},
   "outputs": [],
   "source": [
    "match_stats = pd.concat([pass_counts, shot_counts, foul_counts], axis=1)\n",
    "match_stats"
   ]
  },
  {
   "cell_type": "code",
   "execution_count": null,
   "metadata": {},
   "outputs": [],
   "source": [
    "pd.Series(goals)"
   ]
  },
  {
   "cell_type": "code",
   "execution_count": null,
   "metadata": {},
   "outputs": [],
   "source": [
    "match_stats['goals'] = pd.Series(goals)\n",
    "match_stats = match_stats[[\n",
    "    'goals', 'total_shots', 'shots_on_target',\n",
    "    'fouls', 'offsides',\n",
    "    'total_passes', 'acc_passes', 'pass_accuracy'\n",
    "]]\n",
    "match_stats"
   ]
  }
 ],
 "metadata": {
  "kernelspec": {
   "display_name": "Python 3.8.13 ('class101')",
   "language": "python",
   "name": "python3"
  },
  "language_info": {
   "codemirror_mode": {
    "name": "ipython",
    "version": 3
   },
   "file_extension": ".py",
   "mimetype": "text/x-python",
   "name": "python",
   "nbconvert_exporter": "python",
   "pygments_lexer": "ipython3",
   "version": "3.8.13"
  },
  "orig_nbformat": 4,
  "vscode": {
   "interpreter": {
    "hash": "b2229428593ed30f482d105244b52f2214d62638ed0cc5078189e23a80557466"
   }
  }
 },
 "nbformat": 4,
 "nbformat_minor": 2
}
