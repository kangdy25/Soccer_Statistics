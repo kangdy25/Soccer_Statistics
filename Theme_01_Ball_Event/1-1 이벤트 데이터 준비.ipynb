{
 "cells": [
  {
   "cell_type": "markdown",
   "metadata": {},
   "source": [
    "### Wyscout 이벤트 데이터 변환하기"
   ]
  },
  {
   "cell_type": "markdown",
   "metadata": {},
   "source": [
    "다운로드된 데이터를 수강생이 이해하기 쉽도록 (미리 만들어진 소스코드를 사용하여) 변환하는 부분입니다.<br>\n",
    "따라서 별도의 코드 이해가 필요하지 않으며, 아래 코드를 실행시켜서 경기별 데이터 파일을 생성해 주시기만 하면 됩니다."
   ]
  },
  {
   "cell_type": "code",
   "execution_count": null,
   "metadata": {},
   "outputs": [],
   "source": [
    "from src.data_utils import refine_and_save_events\n",
    "\n",
    "refine_and_save_events(dataset_name='England')\n",
    "refine_and_save_events(dataset_name='Spain')\n",
    "refine_and_save_events(dataset_name='Italy')\n",
    "refine_and_save_events(dataset_name='Germany')\n",
    "refine_and_save_events(dataset_name='France')\n",
    "refine_and_save_events(dataset_name='European_Championship')\n",
    "refine_and_save_events(dataset_name='World_Cup')"
   ]
  },
  {
   "cell_type": "code",
   "execution_count": null,
   "metadata": {},
   "outputs": [],
   "source": [
    "import pandas as pd\n",
    "\n",
    "match_events = pd.read_pickle(f'data/refined_events/World_Cup/2057988.pkl')\n",
    "match_events"
   ]
  }
 ],
 "metadata": {
  "kernelspec": {
   "display_name": "Python 3.8.13 ('class101')",
   "language": "python",
   "name": "python3"
  },
  "language_info": {
   "codemirror_mode": {
    "name": "ipython",
    "version": 3
   },
   "file_extension": ".py",
   "mimetype": "text/x-python",
   "name": "python",
   "nbconvert_exporter": "python",
   "pygments_lexer": "ipython3",
   "version": "3.8.13"
  },
  "orig_nbformat": 4,
  "vscode": {
   "interpreter": {
    "hash": "b2229428593ed30f482d105244b52f2214d62638ed0cc5078189e23a80557466"
   }
  }
 },
 "nbformat": 4,
 "nbformat_minor": 2
}
