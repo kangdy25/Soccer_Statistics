{
 "cells": [
  {
   "cell_type": "markdown",
   "metadata": {},
   "source": [
    "### 강의에서 사용된 파이썬 주요 기능"
   ]
  },
  {
   "cell_type": "markdown",
   "metadata": {},
   "source": [
    "- 경기 데이터 불러오기\n",
    "  - pandas.set_option: https://pandas.pydata.org/docs/reference/api/pandas.set_option.html#pandas.set_option"
   ]
  },
  {
   "cell_type": "markdown",
   "metadata": {},
   "source": [
    "- 경기 내 선수별 기록 집계\n",
    "  - pandas.DataFrame.fillna: https://pandas.pydata.org/docs/reference/api/pandas.DataFrame.fillna.html\n",
    "  - pandas.DataFrame.astype: https://pandas.pydata.org/docs/reference/api/pandas.DataFrame.astype.html\n",
    "  - pandas.DataFrame.reset_index: https://pandas.pydata.org/docs/reference/api/pandas.DataFrame.reset_index.html"
   ]
  },
  {
   "cell_type": "markdown",
   "metadata": {},
   "source": [
    "- 경기 내 선수별 출전 시간 산출\n",
    "  - numpy.ndarray.tolist: https://numpy.org/doc/stable/reference/generated/numpy.ndarray.tolist.html\n",
    "  - pandas.DataFrame.set_index: https://pandas.pydata.org/docs/reference/api/pandas.DataFrame.set_index.html\n",
    "  - numpy.sort: https://numpy.org/doc/stable/reference/generated/numpy.sort.html\n",
    "  - numpy.concatenate: https://numpy.org/doc/stable/reference/generated/numpy.concatenate.html\n",
    "  - pandas.DataFrame.merge: https://pandas.pydata.org/docs/reference/api/pandas.DataFrame.merge.html"
   ]
  },
  {
   "cell_type": "markdown",
   "metadata": {},
   "source": [
    "- 대회 전체 선수 기록 누적 집계\n",
    "  - tqdm: https://tqdm.github.io"
   ]
  },
  {
   "cell_type": "markdown",
   "metadata": {},
   "source": [
    "### 경기 데이터 불러오기"
   ]
  },
  {
   "cell_type": "code",
   "execution_count": null,
   "metadata": {},
   "outputs": [],
   "source": [
    "import numpy as np\n",
    "import pandas as pd\n",
    "from tqdm import tqdm\n",
    "\n",
    "pd.set_option('display.max_columns', 40)"
   ]
  },
  {
   "cell_type": "code",
   "execution_count": null,
   "metadata": {},
   "outputs": [],
   "source": [
    "match_id = 2058017\n",
    "match_events = pd.read_pickle(f'data/refined_events/World_Cup/{match_id}.pkl')\n",
    "match_events"
   ]
  },
  {
   "cell_type": "markdown",
   "metadata": {},
   "source": [
    "### 경기 내 선수별 기록 집계"
   ]
  },
  {
   "cell_type": "markdown",
   "metadata": {},
   "source": [
    "##### (1) 이벤트 유형을 기준으로 추출되는 기록의 집계"
   ]
  },
  {
   "cell_type": "markdown",
   "metadata": {},
   "source": [
    "- 슈팅 횟수"
   ]
  },
  {
   "cell_type": "code",
   "execution_count": null,
   "metadata": {},
   "outputs": [],
   "source": [
    "shot_records = match_events[\n",
    "    (match_events['event_type'] == 'Shot') |\n",
    "    (match_events['sub_event_type'].isin(['Free kick shot', 'Penalty']))\n",
    "]\n",
    "shots = shot_records.groupby(['team_id', 'team_name', 'player_id', 'player_name'])['event_id'].count()\n",
    "shots.name = 'total_shots'\n",
    "shots"
   ]
  },
  {
   "cell_type": "markdown",
   "metadata": {},
   "source": [
    "- 패스 횟수"
   ]
  },
  {
   "cell_type": "code",
   "execution_count": null,
   "metadata": {},
   "outputs": [],
   "source": [
    "pass_records = match_events[\n",
    "    (match_events['event_type'] == 'Pass') |\n",
    "    (match_events['sub_event_type'].isin(['Free kick', 'Free kick cross', 'corner']))\n",
    "]\n",
    "passes = pass_records.groupby(['team_id', 'team_name', 'player_id', 'player_name'])['event_id'].count()\n",
    "passes.name = 'total_passes'\n",
    "passes"
   ]
  },
  {
   "cell_type": "markdown",
   "metadata": {},
   "source": [
    "- 파울 횟수"
   ]
  },
  {
   "cell_type": "code",
   "execution_count": null,
   "metadata": {},
   "outputs": [],
   "source": [
    "foul_records = match_events[match_events['event_type'] == 'Foul']\n",
    "fouls = foul_records.groupby(['team_id', 'team_name', 'player_id', 'player_name'])['event_id'].count()\n",
    "fouls.name = 'fouls'\n",
    "fouls"
   ]
  },
  {
   "cell_type": "markdown",
   "metadata": {},
   "source": [
    "- 오프사이드 횟수"
   ]
  },
  {
   "cell_type": "code",
   "execution_count": null,
   "metadata": {},
   "outputs": [],
   "source": [
    "offside_records = match_events[match_events['event_type'] == 'Offside']\n",
    "offsides = offside_records.groupby(['team_id', 'team_name', 'player_id', 'player_name'])['event_id'].count()\n",
    "offsides.name = 'offsides'\n",
    "offsides"
   ]
  },
  {
   "cell_type": "markdown",
   "metadata": {},
   "source": [
    "##### (2) 태그 정보를 기준으로 추출되는 기록의 집계"
   ]
  },
  {
   "cell_type": "markdown",
   "metadata": {},
   "source": [
    "- 유효슈팅 횟수"
   ]
  },
  {
   "cell_type": "code",
   "execution_count": null,
   "metadata": {},
   "outputs": [],
   "source": [
    "acc_shot_records = shot_records[shot_records['tags'].apply(lambda x: 'Accurate' in x)]\n",
    "acc_shots = acc_shot_records.groupby(['team_id', 'team_name', 'player_id', 'player_name'])['event_id'].count()\n",
    "acc_shots.name = 'shots_on_target'\n",
    "acc_shots"
   ]
  },
  {
   "cell_type": "markdown",
   "metadata": {},
   "source": [
    "- 신체 부위별 슈팅 횟수"
   ]
  },
  {
   "cell_type": "code",
   "execution_count": null,
   "metadata": {},
   "outputs": [],
   "source": [
    "rshot_records = shot_records[shot_records['tags'].apply(lambda x: 'Right foot' in x)]\n",
    "rshots = rshot_records.groupby(['team_id', 'team_name', 'player_id', 'player_name'])['event_id'].count()\n",
    "rshots.name = 'rfoot_shots'\n",
    "\n",
    "lshot_records = shot_records[shot_records['tags'].apply(lambda x: 'Left foot' in x)]\n",
    "lshots = lshot_records.groupby(['team_id', 'team_name', 'player_id', 'player_name'])['event_id'].count()\n",
    "lshots.name = 'lfoot_shots'\n",
    "\n",
    "hshot_records = shot_records[shot_records['tags'].apply(lambda x: 'Head/body' in x)]\n",
    "hshots = hshot_records.groupby(['team_id', 'team_name', 'player_id', 'player_name'])['event_id'].count()\n",
    "hshots.name = 'header_shots'\n",
    "\n",
    "shot_stats_list = [shots, acc_shots, rshots, lshots, hshots]\n",
    "shot_stats = pd.concat(shot_stats_list, axis=1).fillna(0).astype(int)\n",
    "shot_stats"
   ]
  },
  {
   "cell_type": "markdown",
   "metadata": {},
   "source": [
    "- 득점·도움·자책골 횟수"
   ]
  },
  {
   "cell_type": "code",
   "execution_count": null,
   "metadata": {},
   "outputs": [],
   "source": [
    "goal_records = match_events[match_events['tags'].apply(lambda x: 'Goal' in x)]\n",
    "goals = goal_records.groupby(['team_id', 'team_name', 'player_id', 'player_name'])['event_id'].count()\n",
    "goals.name = 'goals'\n",
    "\n",
    "assist_records = match_events[match_events['tags'].apply(lambda x: 'Assist' in x)]\n",
    "assists = assist_records.groupby(['team_id', 'team_name', 'player_id', 'player_name'])['event_id'].count()\n",
    "assists.name = 'assists'\n",
    "\n",
    "own_goal_records = match_events[match_events['tags'].apply(lambda x: 'Own goal' in x)]\n",
    "own_goals = own_goal_records.groupby(['team_id', 'team_name', 'player_id', 'player_name'])['event_id'].count()\n",
    "own_goals.name = 'own_goals'\n",
    "\n",
    "goal_stats_list = [goals, assists, own_goals]\n",
    "goal_stats = pd.concat(goal_stats_list, axis=1).fillna(0).astype(int)\n",
    "goal_stats"
   ]
  },
  {
   "cell_type": "markdown",
   "metadata": {},
   "source": [
    "- 성공한 패스 횟수 및 패스 성공률"
   ]
  },
  {
   "cell_type": "code",
   "execution_count": null,
   "metadata": {},
   "outputs": [],
   "source": [
    "acc_pass_records = pass_records[pass_records['tags'].apply(lambda x: 'Accurate' in x)]\n",
    "acc_passes = acc_pass_records.groupby(['team_id', 'team_name', 'player_id', 'player_name'])['event_id'].count()\n",
    "acc_passes.name = 'acc_passes'\n",
    "\n",
    "pass_stats = pd.concat([passes, acc_passes], axis=1).fillna(0).astype(int)\n",
    "pass_stats['pass_accuracy'] = (pass_stats['acc_passes'] / pass_stats['total_passes']).round(2)\n",
    "pass_stats"
   ]
  },
  {
   "cell_type": "markdown",
   "metadata": {},
   "source": [
    "- 경고·퇴장 횟수"
   ]
  },
  {
   "cell_type": "code",
   "execution_count": null,
   "metadata": {},
   "outputs": [],
   "source": [
    "yellow_records = foul_records[foul_records['tags'].apply(lambda x: 'Yellow card' in x)]\n",
    "yellows = yellow_records.groupby(['team_id', 'team_name', 'player_id', 'player_name'])['event_id'].count()\n",
    "yellows.name = 'yellow_cards'\n",
    "\n",
    "red_records = foul_records[foul_records['tags'].apply(lambda x: 'Red card' in x)]\n",
    "reds = red_records.groupby(['team_id', 'team_name', 'player_id', 'player_name'])['event_id'].count()\n",
    "reds.name = 'red_cards'\n",
    "\n",
    "foul_stats = pd.concat([fouls, offsides, yellows, reds], axis=1).fillna(0).astype(int)\n",
    "foul_stats"
   ]
  },
  {
   "cell_type": "markdown",
   "metadata": {},
   "source": [
    "##### (3) 경기 내 선수별 기록 정리"
   ]
  },
  {
   "cell_type": "code",
   "execution_count": null,
   "metadata": {},
   "outputs": [],
   "source": [
    "player_stats = pd.concat([goal_stats, shot_stats, foul_stats, pass_stats], axis=1, sort=True)\n",
    "player_stats"
   ]
  },
  {
   "cell_type": "code",
   "execution_count": null,
   "metadata": {},
   "outputs": [],
   "source": [
    "player_stats = player_stats.fillna(0).reset_index()\n",
    "\n",
    "for col in player_stats.columns[4:]:\n",
    "    if col != 'pass_accuracy':\n",
    "        player_stats[col] = player_stats[col].astype(int)\n",
    "\n",
    "player_stats"
   ]
  },
  {
   "cell_type": "markdown",
   "metadata": {},
   "source": [
    "### 경기 내 선수별 출전 시간 산출"
   ]
  },
  {
   "cell_type": "markdown",
   "metadata": {},
   "source": [
    "##### (1) 선수교체 및 퇴장 기록 필터링"
   ]
  },
  {
   "cell_type": "code",
   "execution_count": null,
   "metadata": {},
   "outputs": [],
   "source": [
    "player_change_records = match_events[\n",
    "    (match_events['event_type'] == 'Substitution') |\n",
    "    (match_events['tags'].apply(lambda x: 'Red card' in x))\n",
    "]\n",
    "player_change_records"
   ]
  },
  {
   "cell_type": "markdown",
   "metadata": {},
   "source": [
    "##### (2) 선발 선수 추출"
   ]
  },
  {
   "cell_type": "code",
   "execution_count": null,
   "metadata": {},
   "outputs": [],
   "source": [
    "in_players = player_change_records[player_change_records['sub_event_type'] == 'Player in']['player_id'].tolist()\n",
    "player_ids = [p for p in match_events['player_id'].unique() if not p in in_players]\n",
    "player_ids"
   ]
  },
  {
   "cell_type": "markdown",
   "metadata": {},
   "source": [
    "##### (3) 선수교체 및 퇴장 기록을 활용한 phase 구분"
   ]
  },
  {
   "cell_type": "code",
   "execution_count": null,
   "metadata": {},
   "outputs": [],
   "source": [
    "period_durations = match_events.groupby('period')['time'].max()\n",
    "phase_record_list = []\n",
    "phase = 1\n",
    "\n",
    "for period in period_durations.index:\n",
    "    change_times = player_change_records[player_change_records['period'] == period]['time'].unique().tolist()\n",
    "    change_times.append(period_durations[period])\n",
    "    if 0 not in change_times:\n",
    "        change_times = [0] + change_times\n",
    "\n",
    "    for i in range(len(change_times[:-1])):\n",
    "        moment_records = player_change_records[\n",
    "            (player_change_records['period'] == period) &\n",
    "            (player_change_records['time'] == change_times[i])\n",
    "        ]\n",
    "\n",
    "        for _, record in moment_records.iterrows():\n",
    "            if record['sub_event_type'] == 'Player out' or record['event_type'] == 'Foul':\n",
    "                player_ids.remove(record['player_id'])\n",
    "            else:\n",
    "                player_ids.append(record['player_id'])\n",
    "\n",
    "        phase_record = {\n",
    "            'phase': phase,\n",
    "            'period': period,\n",
    "            'start_time': change_times[i],\n",
    "            'end_time': change_times[i+1],\n",
    "            'duration': change_times[i+1] - change_times[i],\n",
    "            'player_ids': player_ids.copy()\n",
    "        }\n",
    "        phase += 1\n",
    "\n",
    "        phase_record_list.append(phase_record)\n",
    "\n",
    "phase_records = pd.DataFrame(phase_record_list).set_index('phase')\n",
    "phase_records"
   ]
  },
  {
   "cell_type": "markdown",
   "metadata": {},
   "source": [
    "##### (4) 선수별 각 phase 출전 여부 판단"
   ]
  },
  {
   "cell_type": "code",
   "execution_count": null,
   "metadata": {},
   "outputs": [],
   "source": [
    "player_ids = np.sort(match_events['player_id'].unique())\n",
    "for player_id in player_ids:\n",
    "    phase_records[player_id] = 0\n",
    "\n",
    "for phase in phase_records.index:\n",
    "    for player_id in phase_records.at[phase, 'player_ids']:\n",
    "        phase_records.at[phase, player_id] = 1\n",
    "\n",
    "phase_records = phase_records[np.concatenate([phase_records.columns[:4], player_ids])]\n",
    "phase_records"
   ]
  },
  {
   "cell_type": "markdown",
   "metadata": {},
   "source": [
    "##### (5) 선수별 출전 시간 산출"
   ]
  },
  {
   "cell_type": "code",
   "execution_count": null,
   "metadata": {},
   "outputs": [],
   "source": [
    "playing_times = pd.Series(index=player_ids, dtype='float')\n",
    "for player_id in player_ids:\n",
    "    playing_times[player_id] = phase_records[phase_records[player_id] == 1]['duration'].sum().round(1)\n",
    "playing_times"
   ]
  },
  {
   "cell_type": "code",
   "execution_count": null,
   "metadata": {},
   "outputs": [],
   "source": [
    "playing_times = playing_times.reset_index()\n",
    "playing_times.columns = ['player_id', 'playing_time']\n",
    "playing_times"
   ]
  },
  {
   "cell_type": "markdown",
   "metadata": {},
   "source": [
    "##### (6) 선수별 기록에 출전 시간 정보 추가"
   ]
  },
  {
   "cell_type": "code",
   "execution_count": null,
   "metadata": {},
   "outputs": [],
   "source": [
    "player_stats = pd.merge(player_stats, playing_times)\n",
    "player_stats"
   ]
  },
  {
   "cell_type": "markdown",
   "metadata": {},
   "source": [
    "### 대회 전체 선수별 기록 집계"
   ]
  },
  {
   "cell_type": "markdown",
   "metadata": {},
   "source": [
    "##### (1) 경기 내 선수별 기록 집계 함수 구현"
   ]
  },
  {
   "cell_type": "code",
   "execution_count": null,
   "metadata": {},
   "outputs": [],
   "source": [
    "def generate_player_stats(match_id):\n",
    "    # Data loading\n",
    "    match_events = pd.read_pickle(f'data/refined_events/World_Cup/{match_id}.pkl')\n",
    "    match_events = match_events[match_events['period'] != 'P']\n",
    "\n",
    "    # Goal stats\n",
    "    goal_records = match_events[match_events['tags'].apply(lambda x: 'Goal' in x)]\n",
    "    goals = goal_records.groupby(['team_id', 'team_name', 'player_id', 'player_name'])['event_id'].count()\n",
    "    goals.name = 'goals'\n",
    "\n",
    "    own_goal_records = match_events[match_events['tags'].apply(lambda x: 'Own goal' in x)]\n",
    "    own_goals = own_goal_records.groupby(['team_id', 'team_name', 'player_id', 'player_name'])['event_id'].count()\n",
    "    own_goals.name = 'own_goals'\n",
    "\n",
    "    assist_records = match_events[match_events['tags'].apply(lambda x: 'Assist' in x)]\n",
    "    assists = assist_records.groupby(['team_id', 'team_name', 'player_id', 'player_name'])['event_id'].count()\n",
    "    assists.name = 'assists'\n",
    "\n",
    "    goal_stats_list = [goals, assists, own_goals]\n",
    "    goal_stats = pd.concat(goal_stats_list, axis=1).fillna(0).astype(int)\n",
    "\n",
    "    # Shot stats\n",
    "    shot_records = match_events[\n",
    "        (match_events['event_type'] == 'Shot') |\n",
    "        (match_events['sub_event_type'].isin(['Free kick shot', 'Penalty']))\n",
    "    ]\n",
    "    shots = shot_records.groupby(['team_id', 'team_name', 'player_id', 'player_name'])['event_id'].count()\n",
    "    shots.name = 'total_shots'\n",
    "\n",
    "    acc_shot_records = shot_records[shot_records['tags'].apply(lambda x: 'Accurate' in x)]\n",
    "    acc_shots = acc_shot_records.groupby(['team_id', 'team_name', 'player_id', 'player_name'])['event_id'].count()\n",
    "    acc_shots.name = 'shots_on_target'\n",
    "\n",
    "    rshot_records = shot_records[shot_records['tags'].apply(lambda x: 'Right foot' in x)]\n",
    "    rshots = rshot_records.groupby(['team_id', 'team_name', 'player_id', 'player_name'])['event_id'].count()\n",
    "    rshots.name = 'rfoot_shots'\n",
    "\n",
    "    lshot_records = shot_records[shot_records['tags'].apply(lambda x: 'Left foot' in x)]\n",
    "    lshots = lshot_records.groupby(['team_id', 'team_name', 'player_id', 'player_name'])['event_id'].count()\n",
    "    lshots.name = 'lfoot_shots'\n",
    "\n",
    "    hshot_records = shot_records[shot_records['tags'].apply(lambda x: 'Head/body' in x)]\n",
    "    hshots = hshot_records.groupby(['team_id', 'team_name', 'player_id', 'player_name'])['event_id'].count()\n",
    "    hshots.name = 'header_shots'\n",
    "\n",
    "    shot_stats_list = [shots, acc_shots, rshots, lshots, hshots]\n",
    "    shot_stats = pd.concat(shot_stats_list, axis=1).fillna(0).astype(int)\n",
    "\n",
    "    # Foul stats\n",
    "    foul_records = match_events[match_events['event_type'] == 'Foul']\n",
    "    fouls = foul_records.groupby(['team_id', 'team_name', 'player_id', 'player_name'])['event_id'].count()\n",
    "    fouls.name = 'fouls'\n",
    "\n",
    "    offside_records = match_events[match_events['event_type'] == 'Offside']\n",
    "    offsides = offside_records.groupby(['team_id', 'team_name', 'player_id', 'player_name'])['event_id'].count()\n",
    "    offsides.name = 'offsides'\n",
    "\n",
    "    yellow_records = foul_records[foul_records['tags'].apply(lambda x: 'Yellow card' in x)]\n",
    "    yellows = yellow_records.groupby(['team_id', 'team_name', 'player_id', 'player_name'])['event_id'].count()\n",
    "    yellows.name = 'yellow_cards'\n",
    "\n",
    "    red_records = foul_records[foul_records['tags'].apply(lambda x: 'Red card' in x)]\n",
    "    reds = red_records.groupby(['team_id', 'team_name', 'player_id', 'player_name'])['event_id'].count()\n",
    "    reds.name = 'red_cards'\n",
    "\n",
    "    foul_stats = pd.concat([fouls, offsides, yellows, reds], axis=1).fillna(0).astype(int)\n",
    "\n",
    "    # Pass stats\n",
    "    pass_records = match_events[\n",
    "        (match_events['event_type'] == 'Pass') |\n",
    "        (match_events['sub_event_type'].isin(['Free kick', 'Free kick cross', 'corner']))\n",
    "    ]\n",
    "    passes = pass_records.groupby(['team_id', 'team_name', 'player_id', 'player_name'])['event_id'].count()\n",
    "    passes.name = 'total_passes'\n",
    "\n",
    "    acc_pass_records = pass_records[pass_records['tags'].apply(lambda x: 'Accurate' in x)]\n",
    "    acc_passes = acc_pass_records.groupby(['team_id', 'team_name', 'player_id', 'player_name'])['event_id'].count()\n",
    "    acc_passes.name = 'acc_passes'\n",
    "\n",
    "    pass_stats = pd.concat([passes, acc_passes], axis=1).fillna(0).astype(int)\n",
    "    pass_stats['pass_accuracy'] = (pass_stats['acc_passes'] / pass_stats['total_passes']).round(2)\n",
    "\n",
    "    # Playing time\n",
    "    player_change_records = match_events[\n",
    "        (match_events['event_type'] == 'Substitution') |\n",
    "        (match_events['tags'].apply(lambda x: 'Red card' in x))\n",
    "    ]\n",
    "    in_players = player_change_records[player_change_records['sub_event_type'] == 'Player in']['player_id'].tolist()\n",
    "    player_ids = [p for p in match_events['player_id'].unique() if not p in in_players]\n",
    "\n",
    "    period_durations = match_events.groupby('period')['time'].max()\n",
    "    phase_record_list = []\n",
    "    phase = 1\n",
    "\n",
    "    for period in period_durations.index:\n",
    "        change_times = player_change_records[player_change_records['period'] == period]['time'].unique().tolist()\n",
    "        change_times.append(period_durations[period])\n",
    "        if 0 not in change_times:\n",
    "            change_times = [0] + change_times\n",
    "\n",
    "        for i in range(len(change_times[:-1])):\n",
    "            moment_records = player_change_records[\n",
    "                (player_change_records['period'] == period) &\n",
    "                (player_change_records['time'] == change_times[i])\n",
    "            ]\n",
    "\n",
    "            for _, record in moment_records.iterrows():\n",
    "                if record['sub_event_type'] == 'Player out' or record['event_type'] == 'Foul':\n",
    "                    player_ids.remove(record['player_id'])\n",
    "                else:\n",
    "                    player_ids.append(record['player_id'])\n",
    "\n",
    "            phase_record = {\n",
    "                'phase': phase,\n",
    "                'period': period,\n",
    "                'start_time': change_times[i],\n",
    "                'end_time': change_times[i+1],\n",
    "                'duration': change_times[i+1] - change_times[i],\n",
    "                'player_ids': player_ids.copy()\n",
    "            }\n",
    "            phase += 1\n",
    "\n",
    "            phase_record_list.append(phase_record)\n",
    "\n",
    "    phase_records = pd.DataFrame(phase_record_list).set_index('phase')\n",
    "\n",
    "    player_ids = np.sort(match_events['player_id'].unique())\n",
    "    for player_id in player_ids:\n",
    "        phase_records[player_id] = 0\n",
    "\n",
    "    for phase in phase_records.index:\n",
    "        for player_id in phase_records.at[phase, 'player_ids']:\n",
    "            phase_records.at[phase, player_id] = 1\n",
    "\n",
    "    phase_records = phase_records[np.concatenate([phase_records.columns[:4], player_ids])]\n",
    "\n",
    "    playing_times = pd.Series(index=player_ids, dtype='float')\n",
    "    for player_id in player_ids:\n",
    "        playing_times[player_id] = phase_records[phase_records[player_id] == 1]['duration'].sum().round(1)\n",
    "    playing_times = playing_times.reset_index()\n",
    "    playing_times.columns = ['player_id', 'playing_time']\n",
    "\n",
    "    # Concatenation\n",
    "    player_stats = pd.concat([goal_stats, shot_stats, foul_stats, pass_stats], axis=1, sort=True).fillna(0)\n",
    "    for col in player_stats.columns:\n",
    "        if col != 'pass_accuracy':\n",
    "            player_stats[col] = player_stats[col].astype(int)\n",
    "\n",
    "    player_stats = pd.merge(player_stats.reset_index(), playing_times)\n",
    "    player_stats['match_id'] = match_id\n",
    "\n",
    "    cols = player_stats.columns.tolist()\n",
    "    cols = ['match_id'] + cols[:4] + ['playing_time'] + cols[4:-2]\n",
    "    return player_stats[cols]"
   ]
  },
  {
   "cell_type": "code",
   "execution_count": null,
   "metadata": {},
   "outputs": [],
   "source": [
    "generate_player_stats(match_id)"
   ]
  },
  {
   "cell_type": "markdown",
   "metadata": {},
   "source": [
    "##### (2) 대회 전체 경기별 선수 기록 집계"
   ]
  },
  {
   "cell_type": "markdown",
   "metadata": {},
   "source": [
    "- 경기 정보 불러오기"
   ]
  },
  {
   "cell_type": "code",
   "execution_count": null,
   "metadata": {},
   "outputs": [],
   "source": [
    "dataset_name = 'World_Cup'\n",
    "match_df = pd.read_csv(f'data/refined_events/{dataset_name}/matches.csv', index_col=0, encoding='utf-8-sig')\n",
    "match_df"
   ]
  },
  {
   "cell_type": "markdown",
   "metadata": {},
   "source": [
    "- 경기별로 선수 기록 집계 함수 호출"
   ]
  },
  {
   "cell_type": "code",
   "execution_count": null,
   "metadata": {},
   "outputs": [],
   "source": [
    "stats_list = []\n",
    "\n",
    "for match_id in tqdm(match_df.index):\n",
    "    match_player_stats = generate_player_stats(match_id)\n",
    "    stats_list.append(match_player_stats)\n",
    "\n",
    "player_stats = pd.concat(stats_list, ignore_index=True)\n",
    "player_stats"
   ]
  },
  {
   "cell_type": "markdown",
   "metadata": {},
   "source": [
    "##### (3) 대회 전체 선수 기록 누적 집계"
   ]
  },
  {
   "cell_type": "code",
   "execution_count": null,
   "metadata": {},
   "outputs": [],
   "source": [
    "grouped = player_stats.groupby(['team_id', 'team_name', 'player_id', 'player_name'])\n",
    "\n",
    "player_stats_accum = grouped[player_stats.columns[5:-1]].sum()\n",
    "player_stats_accum['pass_accuracy'] = (player_stats_accum['acc_passes'] / player_stats_accum['total_passes']).round(2)\n",
    "player_stats_accum['matches'] = grouped['match_id'].count()\n",
    "\n",
    "player_stats_accum = player_stats_accum[['matches'] + player_stats.columns[5:-1].tolist()].reset_index()\n",
    "player_stats_accum"
   ]
  },
  {
   "cell_type": "markdown",
   "metadata": {},
   "source": [
    "##### (4) 분야별 Top 10 추출"
   ]
  },
  {
   "cell_type": "markdown",
   "metadata": {},
   "source": [
    "- 득점 순위 Top 10"
   ]
  },
  {
   "cell_type": "code",
   "execution_count": null,
   "metadata": {},
   "outputs": [],
   "source": [
    "player_stats_accum.sort_values('goals', ascending=False, ignore_index=True)[:10]"
   ]
  },
  {
   "cell_type": "markdown",
   "metadata": {},
   "source": [
    "- 득점 1위 해리 케인 경기별 기록"
   ]
  },
  {
   "cell_type": "code",
   "execution_count": null,
   "metadata": {},
   "outputs": [],
   "source": [
    "player_stats[player_stats['player_name'] == 'H. Kane']"
   ]
  },
  {
   "cell_type": "markdown",
   "metadata": {},
   "source": [
    "- 득점 순위 Top 10 - 동률시 출전 시간이 적을수록 우위"
   ]
  },
  {
   "cell_type": "code",
   "execution_count": null,
   "metadata": {},
   "outputs": [],
   "source": [
    "player_stats_accum.sort_values(['goals', 'playing_time'], ascending=[False, True], ignore_index=True)[:10]"
   ]
  },
  {
   "cell_type": "markdown",
   "metadata": {},
   "source": [
    "- 패스 횟수 Top 10"
   ]
  },
  {
   "cell_type": "code",
   "execution_count": null,
   "metadata": {},
   "outputs": [],
   "source": [
    "player_stats_accum.sort_values('total_passes', ascending=False, ignore_index=True)[:10]"
   ]
  },
  {
   "cell_type": "markdown",
   "metadata": {},
   "source": [
    "- 90분당 패스 횟수 Top 10"
   ]
  },
  {
   "cell_type": "code",
   "execution_count": null,
   "metadata": {},
   "outputs": [],
   "source": [
    "valid_stats = player_stats_accum[player_stats_accum['playing_time'] >= 5400].copy()\n",
    "valid_stats['passes_per_90min'] = (valid_stats['total_passes'] / valid_stats['playing_time'] * 5400).round(1)\n",
    "\n",
    "cols = valid_stats.columns[:6].tolist() + ['passes_per_90min']\n",
    "valid_stats.sort_values('passes_per_90min', ascending=False, ignore_index=True)[cols][:10]"
   ]
  }
 ],
 "metadata": {
  "kernelspec": {
   "display_name": "Python 3.8.13 ('class101')",
   "language": "python",
   "name": "python3"
  },
  "language_info": {
   "codemirror_mode": {
    "name": "ipython",
    "version": 3
   },
   "file_extension": ".py",
   "mimetype": "text/x-python",
   "name": "python",
   "nbconvert_exporter": "python",
   "pygments_lexer": "ipython3",
   "version": "3.8.13"
  },
  "orig_nbformat": 4,
  "vscode": {
   "interpreter": {
    "hash": "b2229428593ed30f482d105244b52f2214d62638ed0cc5078189e23a80557466"
   }
  }
 },
 "nbformat": 4,
 "nbformat_minor": 2
}
