{
 "cells": [
  {
   "cell_type": "markdown",
   "metadata": {},
   "source": [
    "### 강의에서 사용된 파이썬 주요 기능"
   ]
  },
  {
   "cell_type": "markdown",
   "metadata": {},
   "source": [
    "- 이벤트 위치 정적 시각화\n",
    "  - matplotlib.pyplot.scatter: https://matplotlib.org/stable/api/_as_gen/matplotlib.pyplot.scatter.html\n",
    "  - matplotlib.pyplot.arrow: https://matplotlib.org/stable/api/_as_gen/matplotlib.pyplot.arrow.html\n",
    "  - matplotlib.pyplot.savefig: https://matplotlib.org/stable/api/_as_gen/matplotlib.pyplot.savefig.html"
   ]
  },
  {
   "cell_type": "markdown",
   "metadata": {},
   "source": [
    "- 이벤트 위치 반응형 시각화\n",
    "  - plotly.graph_objects.Scatter: https://plotly.com/python-api-reference/generated/plotly.graph_objects.Scatter.html\n",
    "  - plotly.graph_objects.Figure: https://plotly.com/python-api-reference/generated/plotly.graph_objects.Figure.html"
   ]
  },
  {
   "cell_type": "markdown",
   "metadata": {},
   "source": [
    "- 이벤트 히트맵 시각화\n",
    "  - pandas.concat: https://pandas.pydata.org/docs/reference/api/pandas.concat.html\n",
    "  - numpy.histogram2d: https://numpy.org/doc/stable/reference/generated/numpy.histogram2d.html\n",
    "  - matplotlib.pyplot.imshow: https://matplotlib.org/stable/api/_as_gen/matplotlib.pyplot.imshow.html\n",
    "  - matplotlib.pyplot.colorbar: https://matplotlib.org/stable/api/_as_gen/matplotlib.pyplot.colorbar.html\n",
    "  - matplotlib colormaps: https://matplotlib.org/stable/tutorials/colors/colormaps.html\n",
    "  - matplotlib.axes.Axes.tick_params: https://matplotlib.org/stable/api/_as_gen/matplotlib.axes.Axes.tick_params.html"
   ]
  },
  {
   "cell_type": "markdown",
   "metadata": {},
   "source": [
    "### 경기 데이터 불러오기"
   ]
  },
  {
   "cell_type": "code",
   "execution_count": null,
   "metadata": {},
   "outputs": [],
   "source": [
    "import numpy as np\n",
    "import pandas as pd\n",
    "import matplotlib.pyplot as plt\n",
    "import plotly.graph_objects as go\n",
    "from src.plot_utils import *"
   ]
  },
  {
   "cell_type": "code",
   "execution_count": null,
   "metadata": {},
   "outputs": [],
   "source": [
    "match_id = 2057988\n",
    "match_events = pd.read_pickle(f'data/refined_events/World_Cup/{match_id}.pkl')\n",
    "match_events"
   ]
  },
  {
   "cell_type": "markdown",
   "metadata": {},
   "source": [
    "### 이벤트 위치 정적 시각화(static plotting)"
   ]
  },
  {
   "cell_type": "markdown",
   "metadata": {},
   "source": [
    "##### (1) plt.scatter 함수를 활용한 이벤트 위치 시각화"
   ]
  },
  {
   "cell_type": "code",
   "execution_count": null,
   "metadata": {},
   "outputs": [],
   "source": [
    "team1_name, team2_name = match_events['team_name'].unique()\n",
    "team1_events = match_events[match_events['team_name'] == team1_name]\n",
    "team2_events = match_events[match_events['team_name'] == team2_name]\n",
    "\n",
    "plt.scatter(team1_events['start_x'], team1_events['start_y'], c='blue')\n",
    "plt.scatter(team2_events['start_x'], team2_events['start_y'], c='red')\n",
    "plt.show()"
   ]
  },
  {
   "cell_type": "markdown",
   "metadata": {},
   "source": [
    "##### (2) 공개 코드를 이용한 경기장 이미지 시각화"
   ]
  },
  {
   "cell_type": "code",
   "execution_count": null,
   "metadata": {},
   "outputs": [],
   "source": [
    "draw_pitch(pitch='white', line='black')"
   ]
  },
  {
   "cell_type": "markdown",
   "metadata": {},
   "source": [
    "##### (3) 경기장 이미지 위에 이벤트 발생 위치 시각화 및 꾸미기"
   ]
  },
  {
   "cell_type": "code",
   "execution_count": null,
   "metadata": {},
   "outputs": [],
   "source": [
    "team2_events[['start_x', 'end_x']] = 104 - team2_events[['start_x', 'end_x']]\n",
    "team2_events[['start_y', 'end_y']] = 68 - team2_events[['start_y', 'end_y']]"
   ]
  },
  {
   "cell_type": "code",
   "execution_count": null,
   "metadata": {},
   "outputs": [],
   "source": [
    "draw_pitch('white', 'black')\n",
    "\n",
    "plt.scatter(\n",
    "    team1_events['start_x'], team1_events['start_y'], c='blue', edgecolors='k', alpha=0.7,\n",
    "    label=f'{team1_name}: {len(team1_events)} events'\n",
    ")\n",
    "plt.scatter(\n",
    "    team2_events['start_x'], team2_events['start_y'], marker='s', c='red', edgecolors='k', alpha=0.7,\n",
    "    label=f'{team2_name}: {len(team2_events)} events'\n",
    ")\n",
    "plt.legend(fontsize=20, bbox_to_anchor=(1, 1))\n",
    "\n",
    "# plt.savefig('img/event_scatter.png', bbox_inches='tight')\n",
    "plt.show()"
   ]
  },
  {
   "cell_type": "markdown",
   "metadata": {},
   "source": [
    "##### (4) plt.arrow 함수를 활용한 패스 경로 시각화"
   ]
  },
  {
   "cell_type": "code",
   "execution_count": null,
   "metadata": {},
   "outputs": [],
   "source": [
    "pass_records = match_events[\n",
    "    (match_events['event_type'] == 'Pass') |\n",
    "    (match_events['sub_event_type'].isin(['Free kick', 'Free kick cross', 'corner']))\n",
    "]\n",
    "team1_pass_records = pass_records[pass_records['team_name'] == team1_name]\n",
    "team2_pass_records = pass_records[pass_records['team_name'] == team2_name]\n",
    "\n",
    "draw_pitch('white', 'black')\n",
    "\n",
    "plt.scatter(\n",
    "    team1_pass_records['start_x'], team1_pass_records['start_y'], marker='s', c='blue', alpha=0.7,\n",
    "    label=f'{team1_name}: {len(team1_pass_records)} passes'\n",
    ")\n",
    "plt.scatter(\n",
    "    team2_pass_records['start_x'], team2_pass_records['start_y'], marker='s', c='red', alpha=0.7,\n",
    "    label=f'{team2_name}: {len(team2_pass_records)} passes'\n",
    ")\n",
    "\n",
    "for i, record in pass_records.iterrows():\n",
    "    x = record['start_x']\n",
    "    y = record['start_y']\n",
    "    dx = record['end_x'] - x\n",
    "    dy = record['end_y'] - y\n",
    "    color = 'blue' if record['team_name'] == team1_name else 'red'\n",
    "    plt.arrow(x, y, dx, dy, width=0.3, head_width=1.5, color=color, alpha=0.5)\n",
    "\n",
    "plt.legend(fontsize=20, bbox_to_anchor=(1, 1))\n",
    "\n",
    "# plt.savefig('img/pass_arrow.png', bbox_inches='tight')\n",
    "plt.show()"
   ]
  },
  {
   "cell_type": "markdown",
   "metadata": {},
   "source": [
    "### 이벤트 위치 반응형 시각화(interactive plotting)"
   ]
  },
  {
   "cell_type": "markdown",
   "metadata": {},
   "source": [
    "##### (1) go.Scatter 클래스를 활용한 이벤트 위치 반응형 시각화"
   ]
  },
  {
   "cell_type": "code",
   "execution_count": null,
   "metadata": {},
   "outputs": [],
   "source": [
    "match_events['display_time'] = match_events.apply(\n",
    "    lambda x: f\"{x['period']} {int(x['time'] // 60):02d}:{int(x['time'] % 60):02d}\", axis=1\n",
    ")\n",
    "match_events"
   ]
  },
  {
   "cell_type": "code",
   "execution_count": null,
   "metadata": {},
   "outputs": [],
   "source": [
    "match_title = f'{team1_name} - {team2_name}'\n",
    "label_func = lambda x: f\"{x['event_type']} by {x['player_name']}, {x['display_time']}\"\n",
    "\n",
    "team1_events = match_events[match_events['team_name'] == team1_name]\n",
    "team1_trace = go.Scatter(\n",
    "    x=team1_events['start_x'],\n",
    "    y=team1_events['start_y'],\n",
    "    name=team1_name,\n",
    "    text=team1_events.apply(label_func, axis=1),\n",
    "    mode='markers',\n",
    "    marker=dict(size=8, color='blue')\n",
    ")\n",
    "\n",
    "team2_events = match_events[match_events['team_name'] == team2_name]\n",
    "team2_events[['start_x', 'end_x']] = 104 - team2_events[['start_x', 'end_x']]\n",
    "team2_events[['start_y', 'end_y']] = 68 - team2_events[['start_y', 'end_y']]\n",
    "team2_trace = go.Scatter(\n",
    "    x=team2_events['start_x'],\n",
    "    y=team2_events['start_y'],\n",
    "    name=team2_name,\n",
    "    text=team2_events.apply(label_func, axis=1),\n",
    "    mode='markers',\n",
    "    marker=dict(size=8, color='red', symbol='square')\n",
    ")\n",
    "\n",
    "fig = go.Figure(data=[team1_trace, team2_trace], layout=get_pitch_layout(match_title))\n",
    "fig.show()"
   ]
  },
  {
   "cell_type": "markdown",
   "metadata": {},
   "source": [
    "##### (2) 이벤트 위치 반응형 시각화 함수 구현"
   ]
  },
  {
   "cell_type": "markdown",
   "metadata": {},
   "source": [
    "- 시각화 함수 정의"
   ]
  },
  {
   "cell_type": "code",
   "execution_count": null,
   "metadata": {},
   "outputs": [],
   "source": [
    "def plot_events(events, col_name, group_dict, event_type='all', rotate_team2_events=False):\n",
    "    if event_type == 'all':\n",
    "        match_title = f'{team1_name} - {team2_name}'\n",
    "    else:\n",
    "        events = events[events['event_type'] == event_type]\n",
    "        match_title = f'{team1_name} - {team2_name} ({event_type})'\n",
    "\n",
    "    if rotate_team2_events:\n",
    "        events = events.copy()\n",
    "        team2_idx = events['team_name'] == team2_name\n",
    "        events.loc[team2_idx, ['start_x', 'end_x']] = 104 - events.loc[team2_idx, ['start_x', 'end_x']]\n",
    "        events.loc[team2_idx, ['start_y', 'end_y']] = 68 - events.loc[team2_idx, ['start_y', 'end_y']]\n",
    "\n",
    "    label_func = lambda x: f\"{x['event_type']} by {x['player_name']}, {x['display_time']}\"\n",
    "    trace_list = []\n",
    "\n",
    "    for group_name, color in group_dict.items():\n",
    "        group_events = events[events[col_name] == group_name]\n",
    "        trace = go.Scatter(\n",
    "            x=group_events['start_x'],\n",
    "            y=group_events['start_y'],\n",
    "            text=group_events.apply(label_func, axis=1),\n",
    "            mode='markers',\n",
    "            marker=dict(size=8, color=color, symbol='square')\n",
    "        )\n",
    "        trace['name'] = group_name\n",
    "        trace_list.append(trace)\n",
    "\n",
    "    fig = go.Figure(data=trace_list, layout=get_pitch_layout(match_title))\n",
    "    fig.show()"
   ]
  },
  {
   "cell_type": "markdown",
   "metadata": {},
   "source": [
    "- 양팀 슈팅 위치 시각화"
   ]
  },
  {
   "cell_type": "code",
   "execution_count": null,
   "metadata": {},
   "outputs": [],
   "source": [
    "group_dict = {'Korea Republic': 'red', 'Germany': 'blue'}\n",
    "plot_events(match_events, 'team_name', group_dict, event_type='Shot', rotate_team2_events=True)"
   ]
  },
  {
   "cell_type": "markdown",
   "metadata": {},
   "source": [
    "- 주요 선수 패스 위치 시각화"
   ]
  },
  {
   "cell_type": "code",
   "execution_count": null,
   "metadata": {},
   "outputs": [],
   "source": [
    "match_events['player_name'].unique()"
   ]
  },
  {
   "cell_type": "code",
   "execution_count": null,
   "metadata": {},
   "outputs": [],
   "source": [
    "group_dict = {\n",
    "    'Son Heung-Min': 'red', 'Jae-Sung Lee': 'hotpink',\n",
    "    'M. Hummels': 'blue', 'T. Kroos': 'black'\n",
    "}\n",
    "plot_events(match_events, col_name='player_name', group_dict=group_dict, event_type='Pass')"
   ]
  },
  {
   "cell_type": "markdown",
   "metadata": {},
   "source": [
    "### 이벤트 히트맵(heat map) 시각화"
   ]
  },
  {
   "cell_type": "markdown",
   "metadata": {},
   "source": [
    "##### (1) 대회 전체 이벤트 데이터를 하나의 DataFrame으로 연결하기"
   ]
  },
  {
   "cell_type": "code",
   "execution_count": null,
   "metadata": {},
   "outputs": [],
   "source": [
    "dataset_name = 'World_Cup'\n",
    "match_df = pd.read_csv(f'data/refined_events/{dataset_name}/matches.csv', index_col=0, encoding='utf-8-sig')\n",
    "match_df"
   ]
  },
  {
   "cell_type": "code",
   "execution_count": null,
   "metadata": {},
   "outputs": [],
   "source": [
    "match_events_list = []\n",
    "\n",
    "for match_id in match_df.index:\n",
    "    match_events = pd.read_pickle(f'data/refined_events/World_Cup/{match_id}.pkl')\n",
    "    match_events_list.append(match_events)\n",
    "\n",
    "events = pd.concat(match_events_list, ignore_index=True)\n",
    "events"
   ]
  },
  {
   "cell_type": "markdown",
   "metadata": {},
   "source": [
    "##### (2) 선수별 이벤트 히트맵 그리기"
   ]
  },
  {
   "cell_type": "markdown",
   "metadata": {},
   "source": [
    "- numpy.histogram2d 함수를 활용한 히트맵 산출"
   ]
  },
  {
   "cell_type": "code",
   "execution_count": null,
   "metadata": {},
   "outputs": [],
   "source": [
    "player_events = events[events['player_name'] == 'Son Heung-Min']\n",
    "x = player_events['start_x']\n",
    "y = player_events['start_y']\n",
    "heatmap, xedges, yedges = np.histogram2d(y, x, bins=(3, 6), range=[[0, 68], [0, 104]])\n",
    "heatmap, xedges, yedges"
   ]
  },
  {
   "cell_type": "markdown",
   "metadata": {},
   "source": [
    "- plt.imshow 함수를 활용한 히트맵 시각화"
   ]
  },
  {
   "cell_type": "code",
   "execution_count": null,
   "metadata": {},
   "outputs": [],
   "source": [
    "plt.figure(figsize=(10, 6))\n",
    "plt.imshow(heatmap)"
   ]
  },
  {
   "cell_type": "markdown",
   "metadata": {},
   "source": [
    "- 경기장 위에 히트맵 오버레이(overlay)"
   ]
  },
  {
   "cell_type": "code",
   "execution_count": null,
   "metadata": {},
   "outputs": [],
   "source": [
    "fig, ax = draw_pitch('white', 'black')\n",
    "\n",
    "img = ax.imshow(heatmap[::-1], extent=[0, 104, 0, 68], vmin=0, cmap='Reds', alpha=0.8)\n",
    "cbar = fig.colorbar(img, ax=ax)\n",
    "cbar.ax.tick_params(labelsize=15)\n",
    "cbar.set_label(label='Number of events', size=20)\n",
    "\n",
    "# plt.savefig('img/player_event_heatmap.png', bbox_inches='tight')"
   ]
  },
  {
   "cell_type": "markdown",
   "metadata": {},
   "source": [
    "##### (3) 대회 전체 슈팅 히트맵 그리기"
   ]
  },
  {
   "cell_type": "code",
   "execution_count": null,
   "metadata": {},
   "outputs": [],
   "source": [
    "shot_records = events[events['event_type'] == 'Shot']\n",
    "x = shot_records['start_x']\n",
    "y = shot_records['start_y']\n",
    "heatmap, xedges, yedges = np.histogram2d(y, x, bins=(34, 52), range=[[0, 68], [0, 104]])\n",
    "\n",
    "fig, ax = draw_pitch('white', 'black')\n",
    "img = ax.imshow(heatmap[::-1], extent=[0, 104, 0, 68], vmin=0, vmax=15, cmap='jet', alpha=0.8)\n",
    "\n",
    "cbar = fig.colorbar(img, ax=ax)\n",
    "cbar.ax.tick_params(labelsize=15)\n",
    "cbar.set_label(label='Number of shots', size=20)\n",
    "\n",
    "plt.savefig('img/shot_heatmap.png', bbox_inches='tight')"
   ]
  }
 ],
 "metadata": {
  "kernelspec": {
   "display_name": "Python 3.8.13 ('class101')",
   "language": "python",
   "name": "python3"
  },
  "language_info": {
   "codemirror_mode": {
    "name": "ipython",
    "version": 3
   },
   "file_extension": ".py",
   "mimetype": "text/x-python",
   "name": "python",
   "nbconvert_exporter": "python",
   "pygments_lexer": "ipython3",
   "version": "3.8.13"
  },
  "orig_nbformat": 4,
  "vscode": {
   "interpreter": {
    "hash": "b2229428593ed30f482d105244b52f2214d62638ed0cc5078189e23a80557466"
   }
  }
 },
 "nbformat": 4,
 "nbformat_minor": 2
}
